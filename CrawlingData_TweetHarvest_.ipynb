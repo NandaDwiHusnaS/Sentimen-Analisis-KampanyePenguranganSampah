{
  "nbformat": 4,
  "nbformat_minor": 0,
  "metadata": {
    "colab": {
      "provenance": [],
      "authorship_tag": "ABX9TyO11Lns6Iwuy4oxQv5eORpF",
      "include_colab_link": true
    },
    "kernelspec": {
      "name": "python3",
      "display_name": "Python 3"
    },
    "language_info": {
      "name": "python"
    }
  },
  "cells": [
    {
      "cell_type": "markdown",
      "metadata": {
        "id": "view-in-github",
        "colab_type": "text"
      },
      "source": [
        "<a href=\"https://colab.research.google.com/github/NandaDwiHusnaS/Sentimen-Analisis-KampanyePenguranganSampah/blob/main/CrawlingData_TweetHarvest_.ipynb\" target=\"_parent\"><img src=\"https://colab.research.google.com/assets/colab-badge.svg\" alt=\"Open In Colab\"/></a>"
      ]
    },
    {
      "cell_type": "code",
      "execution_count": null,
      "metadata": {
        "id": "BlY7uUmrn0bv"
      },
      "outputs": [],
      "source": [
        "#Twitter Auth Token\n",
        "\n",
        "twitter_auth_token = '195900a5c168d231cecb3c9877f60b1c97a8f965' # change this auth token"
      ]
    },
    {
      "cell_type": "code",
      "source": [
        "# Import required Python package\n",
        "!pip install pandas\n",
        "\n",
        "# Install Node.js (because tweet-harvest built using Node.js)\n",
        "!sudo apt-get update\n",
        "!sudo apt-get install -y ca-certificates curl gnupg\n",
        "!sudo mkdir -p /etc/apt/keyrings\n",
        "!curl -fsSL https://deb.nodesource.com/gpgkey/nodesource-repo.gpg.key | sudo gpg --dearmor -o /etc/apt/keyrings/nodesource.gpg\n",
        "\n",
        "!NODE_MAJOR=20 && echo \"deb [signed-by=/etc/apt/keyrings/nodesource.gpg] https://deb.nodesource.com/node_$NODE_MAJOR.x nodistro main\" | sudo tee /etc/apt/sources.list.d/nodesource.list\n",
        "\n",
        "!sudo apt-get update\n",
        "!sudo apt-get install nodejs -y\n",
        "\n",
        "!node -v"
      ],
      "metadata": {
        "colab": {
          "base_uri": "https://localhost:8080/"
        },
        "id": "iEj69Hgqn_CR",
        "outputId": "5715508d-3305-4a1b-d71b-aa1653b188ee"
      },
      "execution_count": null,
      "outputs": [
        {
          "output_type": "stream",
          "name": "stdout",
          "text": [
            "Requirement already satisfied: pandas in /usr/local/lib/python3.11/dist-packages (2.2.2)\n",
            "Requirement already satisfied: numpy>=1.23.2 in /usr/local/lib/python3.11/dist-packages (from pandas) (2.0.2)\n",
            "Requirement already satisfied: python-dateutil>=2.8.2 in /usr/local/lib/python3.11/dist-packages (from pandas) (2.9.0.post0)\n",
            "Requirement already satisfied: pytz>=2020.1 in /usr/local/lib/python3.11/dist-packages (from pandas) (2025.2)\n",
            "Requirement already satisfied: tzdata>=2022.7 in /usr/local/lib/python3.11/dist-packages (from pandas) (2025.2)\n",
            "Requirement already satisfied: six>=1.5 in /usr/local/lib/python3.11/dist-packages (from python-dateutil>=2.8.2->pandas) (1.17.0)\n",
            "Get:1 https://cloud.r-project.org/bin/linux/ubuntu jammy-cran40/ InRelease [3,632 B]\n",
            "Get:2 https://developer.download.nvidia.com/compute/cuda/repos/ubuntu2204/x86_64  InRelease [1,581 B]\n",
            "Hit:3 http://archive.ubuntu.com/ubuntu jammy InRelease\n",
            "Get:4 https://developer.download.nvidia.com/compute/cuda/repos/ubuntu2204/x86_64  Packages [1,765 kB]\n",
            "Get:5 https://r2u.stat.illinois.edu/ubuntu jammy InRelease [6,555 B]\n",
            "Get:6 http://archive.ubuntu.com/ubuntu jammy-updates InRelease [128 kB]\n",
            "Get:7 http://archive.ubuntu.com/ubuntu jammy-backports InRelease [127 kB]\n",
            "Get:8 https://r2u.stat.illinois.edu/ubuntu jammy/main amd64 Packages [2,742 kB]\n",
            "Get:9 http://archive.ubuntu.com/ubuntu jammy-updates/universe amd64 Packages [1,553 kB]\n",
            "Get:10 https://r2u.stat.illinois.edu/ubuntu jammy/main all Packages [9,017 kB]\n",
            "Get:11 http://archive.ubuntu.com/ubuntu jammy-updates/main amd64 Packages [3,295 kB]\n",
            "Hit:12 https://ppa.launchpadcontent.net/deadsnakes/ppa/ubuntu jammy InRelease\n",
            "Hit:13 https://ppa.launchpadcontent.net/graphics-drivers/ppa/ubuntu jammy InRelease\n",
            "Hit:14 https://ppa.launchpadcontent.net/ubuntugis/ppa/ubuntu jammy InRelease\n",
            "Get:15 http://security.ubuntu.com/ubuntu jammy-security InRelease [129 kB]\n",
            "Get:16 http://security.ubuntu.com/ubuntu jammy-security/main amd64 Packages [2,984 kB]\n",
            "Get:17 http://security.ubuntu.com/ubuntu jammy-security/universe amd64 Packages [1,246 kB]\n",
            "Fetched 23.0 MB in 4s (5,313 kB/s)\n",
            "Reading package lists... Done\n",
            "W: Skipping acquire of configured file 'main/source/Sources' as repository 'https://r2u.stat.illinois.edu/ubuntu jammy InRelease' does not seem to provide it (sources.list entry misspelt?)\n",
            "Reading package lists... Done\n",
            "Building dependency tree... Done\n",
            "Reading state information... Done\n",
            "ca-certificates is already the newest version (20240203~22.04.1).\n",
            "curl is already the newest version (7.81.0-1ubuntu1.20).\n",
            "gnupg is already the newest version (2.2.27-3ubuntu2.3).\n",
            "gnupg set to manually installed.\n",
            "0 upgraded, 0 newly installed, 0 to remove and 42 not upgraded.\n",
            "deb [signed-by=/etc/apt/keyrings/nodesource.gpg] https://deb.nodesource.com/node_20.x nodistro main\n",
            "Hit:1 https://cloud.r-project.org/bin/linux/ubuntu jammy-cran40/ InRelease\n",
            "Hit:2 https://developer.download.nvidia.com/compute/cuda/repos/ubuntu2204/x86_64  InRelease\n",
            "Get:3 https://deb.nodesource.com/node_20.x nodistro InRelease [12.1 kB]\n",
            "Get:4 http://security.ubuntu.com/ubuntu jammy-security InRelease [129 kB]\n",
            "Hit:5 http://archive.ubuntu.com/ubuntu jammy InRelease\n",
            "Hit:6 https://r2u.stat.illinois.edu/ubuntu jammy InRelease\n",
            "Get:7 https://deb.nodesource.com/node_20.x nodistro/main amd64 Packages [11.6 kB]\n",
            "Hit:8 http://archive.ubuntu.com/ubuntu jammy-updates InRelease\n",
            "Hit:9 http://archive.ubuntu.com/ubuntu jammy-backports InRelease\n",
            "Hit:10 https://ppa.launchpadcontent.net/deadsnakes/ppa/ubuntu jammy InRelease\n",
            "Hit:11 https://ppa.launchpadcontent.net/graphics-drivers/ppa/ubuntu jammy InRelease\n",
            "Hit:12 https://ppa.launchpadcontent.net/ubuntugis/ppa/ubuntu jammy InRelease\n",
            "Fetched 153 kB in 1s (122 kB/s)\n",
            "Reading package lists... Done\n",
            "W: Skipping acquire of configured file 'main/source/Sources' as repository 'https://r2u.stat.illinois.edu/ubuntu jammy InRelease' does not seem to provide it (sources.list entry misspelt?)\n",
            "Reading package lists... Done\n",
            "Building dependency tree... Done\n",
            "Reading state information... Done\n",
            "The following NEW packages will be installed:\n",
            "  nodejs\n",
            "0 upgraded, 1 newly installed, 0 to remove and 42 not upgraded.\n",
            "Need to get 32.0 MB of archives.\n",
            "After this operation, 199 MB of additional disk space will be used.\n",
            "Get:1 https://deb.nodesource.com/node_20.x nodistro/main amd64 nodejs amd64 20.19.2-1nodesource1 [32.0 MB]\n",
            "Fetched 32.0 MB in 1s (63.2 MB/s)\n",
            "debconf: unable to initialize frontend: Dialog\n",
            "debconf: (No usable dialog-like program is installed, so the dialog based frontend cannot be used. at /usr/share/perl5/Debconf/FrontEnd/Dialog.pm line 78, <> line 1.)\n",
            "debconf: falling back to frontend: Readline\n",
            "debconf: unable to initialize frontend: Readline\n",
            "debconf: (This frontend requires a controlling tty.)\n",
            "debconf: falling back to frontend: Teletype\n",
            "dpkg-preconfigure: unable to re-open stdin: \n",
            "Selecting previously unselected package nodejs.\n",
            "(Reading database ... 126111 files and directories currently installed.)\n",
            "Preparing to unpack .../nodejs_20.19.2-1nodesource1_amd64.deb ...\n",
            "Unpacking nodejs (20.19.2-1nodesource1) ...\n",
            "Setting up nodejs (20.19.2-1nodesource1) ...\n",
            "Processing triggers for man-db (2.10.2-1) ...\n",
            "v20.19.2\n"
          ]
        }
      ]
    },
    {
      "cell_type": "markdown",
      "source": [
        "November 2024"
      ],
      "metadata": {
        "id": "Cr08IuL_5u09"
      }
    },
    {
      "cell_type": "code",
      "source": [
        "filename = 'Nov_2024_sampah_plastik.csv'\n",
        "search_keyword = '\"sampah\" AND \"plastik\" since:2024-11-01 until:2024-11-30 lang:id'\n",
        "limit = 500\n",
        "!npx -y tweet-harvest@2.6.1 -o \"{filename}\" -s \"{search_keyword}\" --tab \"LATEST\" -l {limit} --token {twitter_auth_token}\n"
      ],
      "metadata": {
        "id": "XDdfhj7d5yeH"
      },
      "execution_count": null,
      "outputs": []
    },
    {
      "cell_type": "code",
      "source": [
        "filename = 'Nov_2024_kurangi_plastik.csv'\n",
        "search_keyword = '\"kurangi\" AND \"plastik\" since:2024-11-01 until:2024-11-30 lang:id'\n",
        "limit = 500\n",
        "!npx -y tweet-harvest@2.6.1 -o \"{filename}\" -s \"{search_keyword}\" --tab \"LATEST\" -l {limit} --token {twitter_auth_token}\n"
      ],
      "metadata": {
        "id": "tOvYx0XS58t6"
      },
      "execution_count": null,
      "outputs": []
    },
    {
      "cell_type": "code",
      "source": [
        "filename = 'Nov_2024_polusi_plastik.csv'\n",
        "search_keyword = '\"polusi\" AND \"plastik\" since:2024-11-01 until:2024-11-30 lang:id'\n",
        "limit = 500\n",
        "!npx -y tweet-harvest@2.6.1 -o \"{filename}\" -s \"{search_keyword}\" --tab \"LATEST\" -l {limit} --token {twitter_auth_token}\n"
      ],
      "metadata": {
        "id": "2equsuVx6P9O"
      },
      "execution_count": null,
      "outputs": []
    },
    {
      "cell_type": "markdown",
      "source": [
        "Desember 2024\n"
      ],
      "metadata": {
        "id": "6YCAedhuFe1J"
      }
    },
    {
      "cell_type": "code",
      "source": [
        "filename = 'des_2024_sampah_plastik.csv'\n",
        "search_keyword = '\"sampah\" AND \"plastik\" since:2024-12-01 until:2024-12-31 lang:id'\n",
        "limit = 500\n",
        "!npx -y tweet-harvest@2.6.1 -o \"{filename}\" -s \"{search_keyword}\" --tab \"LATEST\" -l {limit} --token {twitter_auth_token}\n"
      ],
      "metadata": {
        "colab": {
          "base_uri": "https://localhost:8080/"
        },
        "id": "ccXxozgin6Aa",
        "outputId": "d266f88f-fed4-4c28-f3fe-2671f8ba5d02"
      },
      "execution_count": null,
      "outputs": [
        {
          "output_type": "stream",
          "name": "stdout",
          "text": [
            "\u001b[1G\u001b[0K⠙\u001b[1G\u001b[0K⠹\u001b[1G\u001b[0K⠸\u001b[1G\u001b[0K⠼\u001b[1G\u001b[0K⠴\u001b[1G\u001b[0K⠦\u001b[1G\u001b[0K\u001b[1m\u001b[32mTweet Harvest [v2.6.1]\u001b[39m\u001b[22m\n",
            "\u001b[1m\u001b[32m\u001b[39m\u001b[22m\n",
            "\u001b[34mResearch by \u001b[39m\u001b[1m\u001b[34mHelmi Satria\u001b[39m\u001b[22m\u001b[34m\u001b[39m\n",
            "\u001b[34mUse it for Educational Purposes only!\u001b[39m\n",
            "\u001b[34m\u001b[39m\n",
            "\u001b[33mThis script uses Chromium Browser to crawl data from Twitter with \u001b[1myour Twitter auth token\u001b[22m.\u001b[39m\n",
            "\u001b[33mPlease enter your Twitter auth token when prompted.\u001b[39m\n",
            "\u001b[33m\u001b[39m\n",
            "\u001b[31m\u001b[1mNote:\u001b[22m\u001b[39m Keep your access token secret! Don't share it with anyone else.\n",
            "\u001b[31m\u001b[1mNote:\u001b[22m\u001b[39m This script only runs on your local device.\n",
            "\n",
            "\u001b[34m\u001b[39m\n",
            "\u001b[34mOpening twitter search page...\u001b[39m\n",
            "\u001b[34m\u001b[39m\n",
            "\u001b[90m\u001b[39m\n",
            "\u001b[90m-- Scrolling... (1)\u001b[39m\u001b[33m\u001b[39m\n",
            "\u001b[33mFilling in keywords: sampah\u001b[39m\n",
            "\u001b[33m\u001b[39m\n",
            "\u001b[90m (2)\u001b[39m\u001b[34m\u001b[39m\n",
            "\u001b[34m\u001b[39m\n",
            "\u001b[34mYour tweets saved to: /content/tweets-data/des_2024_sampah_plastik.csv\u001b[39m\n",
            "\u001b[33mTotal tweets saved: 19\u001b[39m\n",
            "\u001b[90m\u001b[39m\n",
            "\u001b[90m-- Scrolling... (1)\u001b[39m\u001b[34m\u001b[39m\n",
            "\u001b[34m\u001b[39m\n",
            "\u001b[34mYour tweets saved to: /content/tweets-data/des_2024_sampah_plastik.csv\u001b[39m\n",
            "\u001b[33mTotal tweets saved: 38\u001b[39m\n",
            "\u001b[90m\u001b[39m\n",
            "\u001b[90m-- Scrolling... (1)\u001b[39m\u001b[34m\u001b[39m\n",
            "\u001b[34m\u001b[39m\n",
            "\u001b[34mYour tweets saved to: /content/tweets-data/des_2024_sampah_plastik.csv\u001b[39m\n",
            "\u001b[33mTotal tweets saved: 57\u001b[39m\n",
            "\u001b[90m\u001b[39m\n",
            "\u001b[90m-- Scrolling... (1)\u001b[39m\u001b[34m\u001b[39m\n",
            "\u001b[34m\u001b[39m\n",
            "\u001b[34mYour tweets saved to: /content/tweets-data/des_2024_sampah_plastik.csv\u001b[39m\n",
            "\u001b[33mTotal tweets saved: 74\u001b[39m\n",
            "\u001b[34m\u001b[39m\n",
            "\u001b[34m\u001b[39m\n",
            "\u001b[34mYour tweets saved to: /content/tweets-data/des_2024_sampah_plastik.csv\u001b[39m\n",
            "\u001b[33mTotal tweets saved: 93\u001b[39m\n",
            "\u001b[90m\u001b[39m\n",
            "\u001b[90m-- Scrolling... (1)\u001b[39m\u001b[34m\u001b[39m\n",
            "\u001b[34m\u001b[39m\n",
            "\u001b[34mYour tweets saved to: /content/tweets-data/des_2024_sampah_plastik.csv\u001b[39m\n",
            "\u001b[33mTotal tweets saved: 112\u001b[39m\n",
            "\u001b[90m\u001b[39m\n",
            "\u001b[90m--Taking a break, waiting for 10 seconds...\u001b[39m\n",
            "\u001b[90m\u001b[39m\n",
            "\u001b[90m-- Scrolling... (1)\u001b[39m\u001b[90m (2)\u001b[39m\u001b[90m (3)\u001b[39m\u001b[34m\u001b[39m\n",
            "\u001b[34m\u001b[39m\n",
            "\u001b[34mYour tweets saved to: /content/tweets-data/des_2024_sampah_plastik.csv\u001b[39m\n",
            "\u001b[33mTotal tweets saved: 128\u001b[39m\n",
            "\u001b[90m\u001b[39m\n",
            "\u001b[90m-- Scrolling... (1)\u001b[39m\u001b[34m\u001b[39m\n",
            "\u001b[34m\u001b[39m\n",
            "\u001b[34mYour tweets saved to: /content/tweets-data/des_2024_sampah_plastik.csv\u001b[39m\n",
            "\u001b[33mTotal tweets saved: 145\u001b[39m\n",
            "\u001b[34m\u001b[39m\n",
            "\u001b[34m\u001b[39m\n",
            "\u001b[34mYour tweets saved to: /content/tweets-data/des_2024_sampah_plastik.csv\u001b[39m\n",
            "\u001b[33mTotal tweets saved: 161\u001b[39m\n",
            "\u001b[34m\u001b[39m\n",
            "\u001b[34m\u001b[39m\n",
            "\u001b[34mYour tweets saved to: /content/tweets-data/des_2024_sampah_plastik.csv\u001b[39m\n",
            "\u001b[33mTotal tweets saved: 179\u001b[39m\n",
            "\u001b[90m\u001b[39m\n",
            "\u001b[90m-- Scrolling... (1)\u001b[39m\u001b[90m (2)\u001b[39m\u001b[90m (3)\u001b[39m\u001b[34m\u001b[39m\n",
            "\u001b[34m\u001b[39m\n",
            "\u001b[34mYour tweets saved to: /content/tweets-data/des_2024_sampah_plastik.csv\u001b[39m\n",
            "\u001b[33mTotal tweets saved: 194\u001b[39m\n",
            "\u001b[90m\u001b[39m\n",
            "\u001b[90m-- Scrolling... (1)\u001b[39m\u001b[90m (2)\u001b[39m\u001b[90m (3)\u001b[39m\u001b[34m\u001b[39m\n",
            "\u001b[34m\u001b[39m\n",
            "\u001b[34mYour tweets saved to: /content/tweets-data/des_2024_sampah_plastik.csv\u001b[39m\n",
            "\u001b[33mTotal tweets saved: 208\u001b[39m\n",
            "\u001b[90m\u001b[39m\n",
            "\u001b[90m-- Scrolling... (1)\u001b[39m\u001b[34m\u001b[39m\n",
            "\u001b[34m\u001b[39m\n",
            "\u001b[34mYour tweets saved to: /content/tweets-data/des_2024_sampah_plastik.csv\u001b[39m\n",
            "\u001b[33mTotal tweets saved: 227\u001b[39m\n",
            "\u001b[90m\u001b[39m\n",
            "\u001b[90m--Taking a break, waiting for 10 seconds...\u001b[39m\n",
            "\u001b[90m\u001b[39m\n",
            "\u001b[90m-- Scrolling... (1)\u001b[39m\u001b[34m\u001b[39m\n",
            "\u001b[34m\u001b[39m\n",
            "\u001b[34mYour tweets saved to: /content/tweets-data/des_2024_sampah_plastik.csv\u001b[39m\n",
            "\u001b[33mTotal tweets saved: 247\u001b[39m\n",
            "\u001b[90m\u001b[39m\n",
            "\u001b[90m-- Scrolling... (1)\u001b[39m\u001b[90m (2)\u001b[39m\u001b[34m\u001b[39m\n",
            "\u001b[34m\u001b[39m\n",
            "\u001b[34mYour tweets saved to: /content/tweets-data/des_2024_sampah_plastik.csv\u001b[39m\n",
            "\u001b[33mTotal tweets saved: 266\u001b[39m\n",
            "\u001b[90m\u001b[39m\n",
            "\u001b[90m-- Scrolling... (1)\u001b[39m\u001b[34m\u001b[39m\n",
            "\u001b[34m\u001b[39m\n",
            "\u001b[34mYour tweets saved to: /content/tweets-data/des_2024_sampah_plastik.csv\u001b[39m\n",
            "\u001b[33mTotal tweets saved: 283\u001b[39m\n",
            "\u001b[90m\u001b[39m\n",
            "\u001b[90m-- Scrolling... (1)\u001b[39m\u001b[90m (2)\u001b[39m\u001b[90m (3)\u001b[39m\u001b[34m\u001b[39m\n",
            "\u001b[34m\u001b[39m\n",
            "\u001b[34mYour tweets saved to: /content/tweets-data/des_2024_sampah_plastik.csv\u001b[39m\n",
            "\u001b[33mTotal tweets saved: 299\u001b[39m\n",
            "\u001b[90m\u001b[39m\n",
            "\u001b[90m-- Scrolling... (1)\u001b[39m\u001b[90m (2)\u001b[39m\u001b[90m (3)\u001b[39m\u001b[34m\u001b[39m\n",
            "\u001b[34m\u001b[39m\n",
            "\u001b[34mYour tweets saved to: /content/tweets-data/des_2024_sampah_plastik.csv\u001b[39m\n",
            "\u001b[33mTotal tweets saved: 319\u001b[39m\n",
            "\u001b[90m\u001b[39m\n",
            "\u001b[90m-- Scrolling... (1)\u001b[39m\u001b[90m (2)\u001b[39m\u001b[90m (3)\u001b[39m\u001b[34m\u001b[39m\n",
            "\u001b[34m\u001b[39m\n",
            "\u001b[34mYour tweets saved to: /content/tweets-data/des_2024_sampah_plastik.csv\u001b[39m\n",
            "\u001b[33mTotal tweets saved: 335\u001b[39m\n",
            "\u001b[90m\u001b[39m\n",
            "\u001b[90m--Taking a break, waiting for 10 seconds...\u001b[39m\n",
            "\u001b[90m\u001b[39m\n",
            "\u001b[90m-- Scrolling... (1)\u001b[39m\u001b[34m\u001b[39m\n",
            "\u001b[34m\u001b[39m\n",
            "\u001b[34mYour tweets saved to: /content/tweets-data/des_2024_sampah_plastik.csv\u001b[39m\n",
            "\u001b[33mTotal tweets saved: 353\u001b[39m\n",
            "\u001b[90m\u001b[39m\n",
            "\u001b[90m-- Scrolling... (1)\u001b[39m\u001b[34m\u001b[39m\n",
            "\u001b[34m\u001b[39m\n",
            "\u001b[34mYour tweets saved to: /content/tweets-data/des_2024_sampah_plastik.csv\u001b[39m\n",
            "\u001b[33mTotal tweets saved: 372\u001b[39m\n",
            "\u001b[90m\u001b[39m\n",
            "\u001b[90m-- Scrolling... (1)\u001b[39m\u001b[90m (2)\u001b[39m\u001b[34m\u001b[39m\n",
            "\u001b[34m\u001b[39m\n",
            "\u001b[34mYour tweets saved to: /content/tweets-data/des_2024_sampah_plastik.csv\u001b[39m\n",
            "\u001b[33mTotal tweets saved: 390\u001b[39m\n",
            "\u001b[90m\u001b[39m\n",
            "\u001b[90m-- Scrolling... (1)\u001b[39m\u001b[34m\u001b[39m\n",
            "\u001b[34m\u001b[39m\n",
            "\u001b[34mYour tweets saved to: /content/tweets-data/des_2024_sampah_plastik.csv\u001b[39m\n",
            "\u001b[33mTotal tweets saved: 407\u001b[39m\n",
            "\u001b[90m\u001b[39m\n",
            "\u001b[90m-- Scrolling... (1)\u001b[39m\u001b[34m\u001b[39m\n",
            "\u001b[34m\u001b[39m\n",
            "\u001b[34mYour tweets saved to: /content/tweets-data/des_2024_sampah_plastik.csv\u001b[39m\n",
            "\u001b[33mTotal tweets saved: 419\u001b[39m\n",
            "\u001b[90m\u001b[39m\n",
            "\u001b[90m-- Scrolling... (1)\u001b[39m\u001b[34m\u001b[39m\n",
            "\u001b[34m\u001b[39m\n",
            "\u001b[34mYour tweets saved to: /content/tweets-data/des_2024_sampah_plastik.csv\u001b[39m\n",
            "\u001b[33mTotal tweets saved: 437\u001b[39m\n",
            "\u001b[90m\u001b[39m\n",
            "\u001b[90m--Taking a break, waiting for 10 seconds...\u001b[39m\n",
            "\u001b[90m\u001b[39m\n",
            "\u001b[90m-- Scrolling... (1)\u001b[39m\u001b[34m\u001b[39m\n",
            "\u001b[34m\u001b[39m\n",
            "\u001b[34mYour tweets saved to: /content/tweets-data/des_2024_sampah_plastik.csv\u001b[39m\n",
            "\u001b[33mTotal tweets saved: 456\u001b[39m\n",
            "\u001b[90m\u001b[39m\n",
            "\u001b[90m-- Scrolling... (1)\u001b[39m\u001b[34m\u001b[39m\n",
            "\u001b[34m\u001b[39m\n",
            "\u001b[34mYour tweets saved to: /content/tweets-data/des_2024_sampah_plastik.csv\u001b[39m\n",
            "\u001b[33mTotal tweets saved: 471\u001b[39m\n",
            "\u001b[90m\u001b[39m\n",
            "\u001b[90m-- Scrolling... (1)\u001b[39m\u001b[34m\u001b[39m\n",
            "\u001b[34m\u001b[39m\n",
            "\u001b[34mYour tweets saved to: /content/tweets-data/des_2024_sampah_plastik.csv\u001b[39m\n",
            "\u001b[33mTotal tweets saved: 488\u001b[39m\n",
            "\u001b[90m\u001b[39m\n",
            "\u001b[90m-- Scrolling... (1)\u001b[39m\u001b[34m\u001b[39m\n",
            "\u001b[34m\u001b[39m\n",
            "\u001b[34mYour tweets saved to: /content/tweets-data/des_2024_sampah_plastik.csv\u001b[39m\n",
            "\u001b[33mTotal tweets saved: 501\u001b[39m\n",
            "Got 501 tweets, done scrolling...\n",
            "\u001b[1G\u001b[0K⠙\u001b[1G\u001b[0K"
          ]
        }
      ]
    },
    {
      "cell_type": "code",
      "source": [
        "filename = 'des_2024_kurangi_plastik.csv'\n",
        "search_keyword = '\"kurangi\" AND \"plastik\" since:2024-12-01 until:2024-12-31 lang:id'\n",
        "limit = 500\n",
        "!npx -y tweet-harvest@2.6.1 -o \"{filename}\" -s \"{search_keyword}\" --tab \"LATEST\" -l {limit} --token {twitter_auth_token}\n"
      ],
      "metadata": {
        "colab": {
          "base_uri": "https://localhost:8080/"
        },
        "id": "NaYzSyBKoh4B",
        "outputId": "5c44f2dc-d702-4072-b9fd-e1263bfa1cc1"
      },
      "execution_count": null,
      "outputs": [
        {
          "output_type": "stream",
          "name": "stdout",
          "text": [
            "\u001b[1G\u001b[0K⠙\u001b[1G\u001b[0K⠹\u001b[1G\u001b[0K⠸\u001b[1G\u001b[0K⠼\u001b[1G\u001b[0K⠴\u001b[1G\u001b[0K\u001b[1m\u001b[32mTweet Harvest [v2.6.1]\u001b[39m\u001b[22m\n",
            "\u001b[1m\u001b[32m\u001b[39m\u001b[22m\n",
            "\u001b[34mResearch by \u001b[39m\u001b[1m\u001b[34mHelmi Satria\u001b[39m\u001b[22m\u001b[34m\u001b[39m\n",
            "\u001b[34mUse it for Educational Purposes only!\u001b[39m\n",
            "\u001b[34m\u001b[39m\n",
            "\u001b[33mThis script uses Chromium Browser to crawl data from Twitter with \u001b[1myour Twitter auth token\u001b[22m.\u001b[39m\n",
            "\u001b[33mPlease enter your Twitter auth token when prompted.\u001b[39m\n",
            "\u001b[33m\u001b[39m\n",
            "\u001b[31m\u001b[1mNote:\u001b[22m\u001b[39m Keep your access token secret! Don't share it with anyone else.\n",
            "\u001b[31m\u001b[1mNote:\u001b[22m\u001b[39m This script only runs on your local device.\n",
            "\n",
            "\u001b[34m\u001b[39m\n",
            "\u001b[34mOpening twitter search page...\u001b[39m\n",
            "\u001b[34m\u001b[39m\n",
            "\u001b[90m\u001b[39m\n",
            "\u001b[90m-- Scrolling... (1)\u001b[39m\u001b[90m (2)\u001b[39m\u001b[33m\u001b[39m\n",
            "\u001b[33mFilling in keywords: kurangi\u001b[39m\n",
            "\u001b[33m\u001b[39m\n",
            "\u001b[90m (3)\u001b[39m\u001b[90m (4)\u001b[39m\u001b[34m\u001b[39m\n",
            "\u001b[34m\u001b[39m\n",
            "\u001b[34mYour tweets saved to: /content/tweets-data/des_2024_kurangi_plastik.csv\u001b[39m\n",
            "\u001b[33mTotal tweets saved: 16\u001b[39m\n",
            "\u001b[90m\u001b[39m\n",
            "\u001b[90m-- Scrolling... (1)\u001b[39m\u001b[90m (2)\u001b[39m\u001b[90m (3)\u001b[39m\u001b[34m\u001b[39m\n",
            "\u001b[34m\u001b[39m\n",
            "\u001b[34mYour tweets saved to: /content/tweets-data/des_2024_kurangi_plastik.csv\u001b[39m\n",
            "\u001b[33mTotal tweets saved: 32\u001b[39m\n",
            "\u001b[90m\u001b[39m\n",
            "\u001b[90m-- Scrolling... (1)\u001b[39m\u001b[34m\u001b[39m\n",
            "\u001b[34m\u001b[39m\n",
            "\u001b[34mYour tweets saved to: /content/tweets-data/des_2024_kurangi_plastik.csv\u001b[39m\n",
            "\u001b[33mTotal tweets saved: 47\u001b[39m\n",
            "\u001b[90m\u001b[39m\n",
            "\u001b[90m-- Scrolling... (1)\u001b[39m\u001b[34m\u001b[39m\n",
            "\u001b[34m\u001b[39m\n",
            "\u001b[34mYour tweets saved to: /content/tweets-data/des_2024_kurangi_plastik.csv\u001b[39m\n",
            "\u001b[33mTotal tweets saved: 66\u001b[39m\n",
            "\u001b[90m\u001b[39m\n",
            "\u001b[90m-- Scrolling... (1)\u001b[39m\u001b[34m\u001b[39m\n",
            "\u001b[34m\u001b[39m\n",
            "\u001b[34mYour tweets saved to: /content/tweets-data/des_2024_kurangi_plastik.csv\u001b[39m\n",
            "\u001b[33mTotal tweets saved: 83\u001b[39m\n",
            "\u001b[90m\u001b[39m\n",
            "\u001b[90m-- Scrolling... (1)\u001b[39m\u001b[34m\u001b[39m\n",
            "\u001b[34m\u001b[39m\n",
            "\u001b[34mYour tweets saved to: /content/tweets-data/des_2024_kurangi_plastik.csv\u001b[39m\n",
            "\u001b[33mTotal tweets saved: 100\u001b[39m\n",
            "\u001b[90m\u001b[39m\n",
            "\u001b[90m-- Scrolling... (1)\u001b[39m\u001b[34m\u001b[39m\n",
            "\u001b[34m\u001b[39m\n",
            "\u001b[34mYour tweets saved to: /content/tweets-data/des_2024_kurangi_plastik.csv\u001b[39m\n",
            "\u001b[33mTotal tweets saved: 116\u001b[39m\n",
            "\u001b[90m\u001b[39m\n",
            "\u001b[90m--Taking a break, waiting for 10 seconds...\u001b[39m\n",
            "\u001b[90m\u001b[39m\n",
            "\u001b[90m-- Scrolling... (1)\u001b[39m\u001b[34m\u001b[39m\n",
            "\u001b[34m\u001b[39m\n",
            "\u001b[34mYour tweets saved to: /content/tweets-data/des_2024_kurangi_plastik.csv\u001b[39m\n",
            "\u001b[33mTotal tweets saved: 136\u001b[39m\n",
            "\u001b[90m\u001b[39m\n",
            "\u001b[90m-- Scrolling... (1)\u001b[39m\u001b[34m\u001b[39m\n",
            "\u001b[34m\u001b[39m\n",
            "\u001b[34mYour tweets saved to: /content/tweets-data/des_2024_kurangi_plastik.csv\u001b[39m\n",
            "\u001b[33mTotal tweets saved: 151\u001b[39m\n",
            "\u001b[90m\u001b[39m\n",
            "\u001b[90m-- Scrolling... (1)\u001b[39m\u001b[34m\u001b[39m\n",
            "\u001b[34m\u001b[39m\n",
            "\u001b[34mYour tweets saved to: /content/tweets-data/des_2024_kurangi_plastik.csv\u001b[39m\n",
            "\u001b[33mTotal tweets saved: 169\u001b[39m\n",
            "\u001b[90m\u001b[39m\n",
            "\u001b[90m-- Scrolling... (1)\u001b[39m\u001b[34m\u001b[39m\n",
            "\u001b[34m\u001b[39m\n",
            "\u001b[34mYour tweets saved to: /content/tweets-data/des_2024_kurangi_plastik.csv\u001b[39m\n",
            "\u001b[33mTotal tweets saved: 187\u001b[39m\n",
            "\u001b[90m\u001b[39m\n",
            "\u001b[90m-- Scrolling... (1)\u001b[39m\u001b[34m\u001b[39m\n",
            "\u001b[34m\u001b[39m\n",
            "\u001b[34mYour tweets saved to: /content/tweets-data/des_2024_kurangi_plastik.csv\u001b[39m\n",
            "\u001b[33mTotal tweets saved: 204\u001b[39m\n",
            "\u001b[90m\u001b[39m\n",
            "\u001b[90m-- Scrolling... (1)\u001b[39m\u001b[34m\u001b[39m\n",
            "\u001b[34m\u001b[39m\n",
            "\u001b[34mYour tweets saved to: /content/tweets-data/des_2024_kurangi_plastik.csv\u001b[39m\n",
            "\u001b[33mTotal tweets saved: 222\u001b[39m\n",
            "\u001b[90m\u001b[39m\n",
            "\u001b[90m--Taking a break, waiting for 10 seconds...\u001b[39m\n",
            "\u001b[90m\u001b[39m\n",
            "\u001b[90m-- Scrolling... (1)\u001b[39m\u001b[34m\u001b[39m\n",
            "\u001b[34m\u001b[39m\n",
            "\u001b[34mYour tweets saved to: /content/tweets-data/des_2024_kurangi_plastik.csv\u001b[39m\n",
            "\u001b[33mTotal tweets saved: 238\u001b[39m\n",
            "\u001b[90m\u001b[39m\n",
            "\u001b[90m-- Scrolling... (1)\u001b[39m\u001b[34m\u001b[39m\n",
            "\u001b[34m\u001b[39m\n",
            "\u001b[34mYour tweets saved to: /content/tweets-data/des_2024_kurangi_plastik.csv\u001b[39m\n",
            "\u001b[33mTotal tweets saved: 256\u001b[39m\n",
            "\u001b[90m\u001b[39m\n",
            "\u001b[90m-- Scrolling... (1)\u001b[39m\u001b[34m\u001b[39m\n",
            "\u001b[34m\u001b[39m\n",
            "\u001b[34mYour tweets saved to: /content/tweets-data/des_2024_kurangi_plastik.csv\u001b[39m\n",
            "\u001b[33mTotal tweets saved: 273\u001b[39m\n",
            "\u001b[90m\u001b[39m\n",
            "\u001b[90m-- Scrolling... (1)\u001b[39m\u001b[34m\u001b[39m\n",
            "\u001b[34m\u001b[39m\n",
            "\u001b[34mYour tweets saved to: /content/tweets-data/des_2024_kurangi_plastik.csv\u001b[39m\n",
            "\u001b[33mTotal tweets saved: 288\u001b[39m\n",
            "\u001b[90m\u001b[39m\n",
            "\u001b[90m-- Scrolling... (1)\u001b[39m\u001b[34m\u001b[39m\n",
            "\u001b[34m\u001b[39m\n",
            "\u001b[34mYour tweets saved to: /content/tweets-data/des_2024_kurangi_plastik.csv\u001b[39m\n",
            "\u001b[33mTotal tweets saved: 304\u001b[39m\n",
            "\u001b[90m\u001b[39m\n",
            "\u001b[90m-- Scrolling... (1)\u001b[39m\u001b[34m\u001b[39m\n",
            "\u001b[34m\u001b[39m\n",
            "\u001b[34mYour tweets saved to: /content/tweets-data/des_2024_kurangi_plastik.csv\u001b[39m\n",
            "\u001b[33mTotal tweets saved: 320\u001b[39m\n",
            "\u001b[90m\u001b[39m\n",
            "\u001b[90m-- Scrolling... (1)\u001b[39m\u001b[34m\u001b[39m\n",
            "\u001b[34m\u001b[39m\n",
            "\u001b[34mYour tweets saved to: /content/tweets-data/des_2024_kurangi_plastik.csv\u001b[39m\n",
            "\u001b[33mTotal tweets saved: 337\u001b[39m\n",
            "\u001b[90m\u001b[39m\n",
            "\u001b[90m--Taking a break, waiting for 10 seconds...\u001b[39m\n",
            "\u001b[90m\u001b[39m\n",
            "\u001b[90m-- Scrolling... (1)\u001b[39m\u001b[34m\u001b[39m\n",
            "\u001b[34m\u001b[39m\n",
            "\u001b[34mYour tweets saved to: /content/tweets-data/des_2024_kurangi_plastik.csv\u001b[39m\n",
            "\u001b[33mTotal tweets saved: 355\u001b[39m\n",
            "\u001b[90m\u001b[39m\n",
            "\u001b[90m-- Scrolling... (1)\u001b[39m\u001b[34m\u001b[39m\n",
            "\u001b[34m\u001b[39m\n",
            "\u001b[34mYour tweets saved to: /content/tweets-data/des_2024_kurangi_plastik.csv\u001b[39m\n",
            "\u001b[33mTotal tweets saved: 366\u001b[39m\n",
            "\u001b[90m\u001b[39m\n",
            "\u001b[90m-- Scrolling... (1)\u001b[39m\u001b[34m\u001b[39m\n",
            "\u001b[34m\u001b[39m\n",
            "\u001b[34mYour tweets saved to: /content/tweets-data/des_2024_kurangi_plastik.csv\u001b[39m\n",
            "\u001b[33mTotal tweets saved: 384\u001b[39m\n",
            "\u001b[90m\u001b[39m\n",
            "\u001b[90m-- Scrolling... (1)\u001b[39m\u001b[34m\u001b[39m\n",
            "\u001b[34m\u001b[39m\n",
            "\u001b[34mYour tweets saved to: /content/tweets-data/des_2024_kurangi_plastik.csv\u001b[39m\n",
            "\u001b[33mTotal tweets saved: 403\u001b[39m\n",
            "\u001b[90m\u001b[39m\n",
            "\u001b[90m-- Scrolling... (1)\u001b[39m\u001b[34m\u001b[39m\n",
            "\u001b[34m\u001b[39m\n",
            "\u001b[34mYour tweets saved to: /content/tweets-data/des_2024_kurangi_plastik.csv\u001b[39m\n",
            "\u001b[33mTotal tweets saved: 422\u001b[39m\n",
            "\u001b[90m\u001b[39m\n",
            "\u001b[90m-- Scrolling... (1)\u001b[39m\u001b[34m\u001b[39m\n",
            "\u001b[34m\u001b[39m\n",
            "\u001b[34mYour tweets saved to: /content/tweets-data/des_2024_kurangi_plastik.csv\u001b[39m\n",
            "\u001b[33mTotal tweets saved: 437\u001b[39m\n",
            "\u001b[90m\u001b[39m\n",
            "\u001b[90m-- Scrolling... (1)\u001b[39m\u001b[34m\u001b[39m\n",
            "\u001b[34m\u001b[39m\n",
            "\u001b[34mYour tweets saved to: /content/tweets-data/des_2024_kurangi_plastik.csv\u001b[39m\n",
            "\u001b[33mTotal tweets saved: 453\u001b[39m\n",
            "\u001b[90m\u001b[39m\n",
            "\u001b[90m--Taking a break, waiting for 10 seconds...\u001b[39m\n",
            "\u001b[90m\u001b[39m\n",
            "\u001b[90m-- Scrolling... (1)\u001b[39m\u001b[34m\u001b[39m\n",
            "\u001b[34m\u001b[39m\n",
            "\u001b[34mYour tweets saved to: /content/tweets-data/des_2024_kurangi_plastik.csv\u001b[39m\n",
            "\u001b[33mTotal tweets saved: 471\u001b[39m\n",
            "\u001b[90m\u001b[39m\n",
            "\u001b[90m-- Scrolling... (1)\u001b[39m\u001b[90m (2)\u001b[39m\u001b[34m\u001b[39m\n",
            "\u001b[34m\u001b[39m\n",
            "\u001b[34mYour tweets saved to: /content/tweets-data/des_2024_kurangi_plastik.csv\u001b[39m\n",
            "\u001b[33mTotal tweets saved: 489\u001b[39m\n",
            "\u001b[90m\u001b[39m\n",
            "\u001b[90m-- Scrolling... (1)\u001b[39m\u001b[90m (2)\u001b[39m\u001b[90m (3)\u001b[39m\u001b[34m\u001b[39m\n",
            "\u001b[34m\u001b[39m\n",
            "\u001b[34mYour tweets saved to: /content/tweets-data/des_2024_kurangi_plastik.csv\u001b[39m\n",
            "\u001b[33mTotal tweets saved: 507\u001b[39m\n",
            "Got 507 tweets, done scrolling...\n",
            "\u001b[1G\u001b[0K⠙\u001b[1G\u001b[0K\u001b[1G\u001b[0K⠙\u001b[1G\u001b[0K⠹\u001b[1G\u001b[0K⠸\u001b[1G\u001b[0K⠼\u001b[1G\u001b[0K⠴\u001b[1G\u001b[0K⠦\u001b[1G\u001b[0K\u001b[1m\u001b[32mTweet Harvest [v2.6.1]\u001b[39m\u001b[22m\n",
            "\u001b[1m\u001b[32m\u001b[39m\u001b[22m\n",
            "\u001b[34mResearch by \u001b[39m\u001b[1m\u001b[34mHelmi Satria\u001b[39m\u001b[22m\u001b[34m\u001b[39m\n",
            "\u001b[34mUse it for Educational Purposes only!\u001b[39m\n",
            "\u001b[34m\u001b[39m\n",
            "\u001b[33mThis script uses Chromium Browser to crawl data from Twitter with \u001b[1myour Twitter auth token\u001b[22m.\u001b[39m\n",
            "\u001b[33mPlease enter your Twitter auth token when prompted.\u001b[39m\n",
            "\u001b[33m\u001b[39m\n",
            "\u001b[31m\u001b[1mNote:\u001b[22m\u001b[39m Keep your access token secret! Don't share it with anyone else.\n",
            "\u001b[31m\u001b[1mNote:\u001b[22m\u001b[39m This script only runs on your local device.\n",
            "\n",
            "\u001b[34m\u001b[39m\n",
            "\u001b[34mOpening twitter search page...\u001b[39m\n",
            "\u001b[34m\u001b[39m\n",
            "\u001b[33m\u001b[39m\n",
            "\u001b[33mFilling in keywords: polusi\u001b[39m\n",
            "\u001b[33m\u001b[39m\n",
            "\u001b[90m\u001b[39m\n",
            "\u001b[90m-- Scrolling... (1)\u001b[39m\u001b[90m (2)\u001b[39m\u001b[34m\u001b[39m\n",
            "\u001b[34m\u001b[39m\n",
            "\u001b[34mYour tweets saved to: /content/tweets-data/des_2024_polusi_plastik.csv\u001b[39m\n",
            "\u001b[33mTotal tweets saved: 18\u001b[39m\n",
            "\u001b[90m\u001b[39m\n",
            "\u001b[90m-- Scrolling... (1)\u001b[39m\u001b[34m\u001b[39m\n",
            "\u001b[34m\u001b[39m\n",
            "\u001b[34mYour tweets saved to: /content/tweets-data/des_2024_polusi_plastik.csv\u001b[39m\n",
            "\u001b[33mTotal tweets saved: 34\u001b[39m\n",
            "\u001b[90m\u001b[39m\n",
            "\u001b[90m-- Scrolling... (1)\u001b[39m\u001b[34m\u001b[39m\n",
            "\u001b[34m\u001b[39m\n",
            "\u001b[34mYour tweets saved to: /content/tweets-data/des_2024_polusi_plastik.csv\u001b[39m\n",
            "\u001b[33mTotal tweets saved: 53\u001b[39m\n",
            "\u001b[34m\u001b[39m\n",
            "\u001b[34m\u001b[39m\n",
            "\u001b[34mYour tweets saved to: /content/tweets-data/des_2024_polusi_plastik.csv\u001b[39m\n",
            "\u001b[33mTotal tweets saved: 71\u001b[39m\n",
            "\u001b[90m\u001b[39m\n",
            "\u001b[90m-- Scrolling... (1)\u001b[39m\u001b[34m\u001b[39m\n",
            "\u001b[34m\u001b[39m\n",
            "\u001b[34mYour tweets saved to: /content/tweets-data/des_2024_polusi_plastik.csv\u001b[39m\n",
            "\u001b[33mTotal tweets saved: 90\u001b[39m\n",
            "\u001b[90m\u001b[39m\n",
            "\u001b[90m-- Scrolling... (1)\u001b[39m\u001b[34m\u001b[39m\n",
            "\u001b[34m\u001b[39m\n",
            "\u001b[34mYour tweets saved to: /content/tweets-data/des_2024_polusi_plastik.csv\u001b[39m\n",
            "\u001b[33mTotal tweets saved: 109\u001b[39m\n",
            "\u001b[90m\u001b[39m\n",
            "\u001b[90m--Taking a break, waiting for 10 seconds...\u001b[39m\n",
            "\u001b[90m\u001b[39m\n",
            "\u001b[90m-- Scrolling... (1)\u001b[39m\u001b[90m (2)\u001b[39m\u001b[90m (3)\u001b[39m\u001b[90m (4)\u001b[39m\u001b[90m (5)\u001b[39m\u001b[90m (6)\u001b[39m\u001b[90m (7)\u001b[39m\u001b[90m (8)\u001b[39m\u001b[90m (9)\u001b[39m\u001b[90m (10)\u001b[39m\u001b[90m (11)\u001b[39m\u001b[90m (12)\u001b[39m\u001b[90m (13)\u001b[39m\u001b[90m (14)\u001b[39m\u001b[90m (15)\u001b[39m\u001b[90m (16)\u001b[39m\u001b[90m (17)\u001b[39m\u001b[90m (18)\u001b[39m\u001b[90m (19)\u001b[39m\u001b[90m (20)\u001b[39m\u001b[90m (21)\u001b[39m\u001b[33mNo more tweets found, please check your search criteria and csv file result\u001b[39m\n",
            "\u001b[33mTimeout reached 1 times, making sure again...\u001b[39m\n",
            "\u001b[90m[v2.6.1]\u001b[39m Error parsing response json: {\"_type\":\"Response\",\"_guid\":\"response@0754d345d9fffbb2226f81dcaecedbcd\"}\n",
            "\u001b[90m[v2.6.1]\u001b[39m Most likely, you have already exceeded the Twitter rate limit. Read more on https://x.com/elonmusk/status/1675187969420828672.\n",
            "\u001b[90m[v2.6.1]\u001b[39m Error parsing response json: {\"_type\":\"Response\",\"_guid\":\"response@d06aa35b4d3f13479cc4a9f71663efa4\"}\n",
            "\u001b[90m[v2.6.1]\u001b[39m Most likely, you have already exceeded the Twitter rate limit. Read more on https://x.com/elonmusk/status/1675187969420828672.\n",
            "\u001b[90m[v2.6.1]\u001b[39m Error parsing response json: {\"_type\":\"Response\",\"_guid\":\"response@0c14f9df7c7774d87088edcfc9e39098\"}\n",
            "\u001b[90m[v2.6.1]\u001b[39m Most likely, you have already exceeded the Twitter rate limit. Read more on https://x.com/elonmusk/status/1675187969420828672.\n",
            "\u001b[90m[v2.6.1]\u001b[39m Error: page.waitForTimeout: Target page, context or browser has been closed\n",
            "\u001b[34mKeywords: polusi\u001b[39m\n",
            "\u001b[93mTwitter Harvest v 2.6.1\u001b[39m\n",
            "node:internal/process/promises:391\n",
            "    triggerUncaughtException(err, true /* fromPromise */);\n",
            "    ^\n",
            "\n",
            "page.screenshot: Target page, context or browser has been closed\n",
            "    at crawl (/root/.npm/_npx/d28e8c2154917da4/node_modules/\u001b[4mtweet-harvest\u001b[24m/dist/bin.js:470:16)\n",
            "\n",
            "Node.js v20.19.2\n",
            "^C\n"
          ]
        }
      ]
    },
    {
      "cell_type": "code",
      "source": [
        "filename = 'des_2024_polusi_plastik.csv'\n",
        "search_keyword = '\"polusi\" AND \"plastik\" since:2024-12-01 until:2024-12-31 lang:id'\n",
        "limit = 500\n",
        "!npx -y tweet-harvest@2.6.1 -o \"{filename}\" -s \"{search_keyword}\" --tab \"LATEST\" -l {limit} --token {twitter_auth_token}"
      ],
      "metadata": {
        "id": "L8OxpKCPKPqm"
      },
      "execution_count": null,
      "outputs": []
    },
    {
      "cell_type": "markdown",
      "source": [
        "Januari 2025"
      ],
      "metadata": {
        "id": "letuO09hG02H"
      }
    },
    {
      "cell_type": "code",
      "source": [
        "filename = 'jan_2025_sampah_plastik.csv'\n",
        "search_keyword = '\"sampah\" AND \"plastik\" since:2025-01-01 until:2025-01-31 lang:id'\n",
        "limit = 500\n",
        "!npx -y tweet-harvest@2.6.1 -o \"{filename}\" -s \"{search_keyword}\" --tab \"LATEST\" -l {limit} --token {twitter_auth_token}\n",
        "\n"
      ],
      "metadata": {
        "id": "bGHuCp-pFcVo"
      },
      "execution_count": null,
      "outputs": []
    },
    {
      "cell_type": "code",
      "source": [
        "filename = 'jan_2025_kurangi_plastik.csv'\n",
        "search_keyword = '\"kurangi\" AND \"plastik\" since:2025-01-01 until:2025-01-31 lang:id'\n",
        "limit = 500\n",
        "!npx -y tweet-harvest@2.6.1 -o \"{filename}\" -s \"{search_keyword}\" --tab \"LATEST\" -l {limit} --token {twitter_auth_token}"
      ],
      "metadata": {
        "id": "_ygAYpkMKbNb"
      },
      "execution_count": null,
      "outputs": []
    },
    {
      "cell_type": "code",
      "source": [
        "\n",
        "filename = 'jan_2025_polusi_plastik.csv'\n",
        "search_keyword = '\"polusi\" AND \"plastik\" since:2025-01-01 until:2025-01-31 lang:id'\n",
        "limit = 500\n",
        "!npx -y tweet-harvest@2.6.1 -o \"{filename}\" -s \"{search_keyword}\" --tab \"LATEST\" -l {limit} --token {twitter_auth_token}"
      ],
      "metadata": {
        "id": "vnJeg1GbKa7a"
      },
      "execution_count": null,
      "outputs": []
    },
    {
      "cell_type": "markdown",
      "source": [
        "Februari 2025\n"
      ],
      "metadata": {
        "id": "bsVKUR6XG5AC"
      }
    },
    {
      "cell_type": "code",
      "source": [
        "filename = 'feb_2025_sampah_plastik.csv'\n",
        "search_keyword = '\"sampah\" AND \"plastik\" since:2025-02-01 until:2025-02-28 lang:id'\n",
        "limit = 500\n",
        "!npx -y tweet-harvest@2.6.1 -o \"{filename}\" -s \"{search_keyword}\" --tab \"LATEST\" -l {limit} --token {twitter_auth_token}\n"
      ],
      "metadata": {
        "id": "pU9G8y59G7o9"
      },
      "execution_count": null,
      "outputs": []
    },
    {
      "cell_type": "code",
      "source": [
        "filename = 'feb_2025_kurangi_plastik.csv'\n",
        "search_keyword = '\"kurangi\" AND \"plastik\" since:2025-02-01 until:2025-02-28 lang:id'\n",
        "limit = 500\n",
        "!npx -y tweet-harvest@2.6.1 -o \"{filename}\" -s \"{search_keyword}\" --tab \"LATEST\" -l {limit} --token {twitter_auth_token}"
      ],
      "metadata": {
        "id": "vbbF2M7DKufK"
      },
      "execution_count": null,
      "outputs": []
    },
    {
      "cell_type": "code",
      "source": [
        "filename = 'feb_2025_polusi_plastik.csv'\n",
        "search_keyword = '\"polusi\" AND \"plastik\" since:2025-02-01 until:2025-02-28 lang:id'\n",
        "limit = 500\n",
        "!npx -y tweet-harvest@2.6.1 -o \"{filename}\" -s \"{search_keyword}\" --tab \"LATEST\" -l {limit} --token {twitter_auth_token}"
      ],
      "metadata": {
        "id": "aN7gFUILKuK7"
      },
      "execution_count": null,
      "outputs": []
    },
    {
      "cell_type": "markdown",
      "source": [
        "Maret 2025"
      ],
      "metadata": {
        "id": "72tmedNSHVoR"
      }
    },
    {
      "cell_type": "code",
      "source": [
        "filename = 'mar_2025_sampah_plastik.csv'\n",
        "search_keyword = '\"sampah\" AND \"plastik\" since:2025-03-01 until:2025-03-31 lang:id'\n",
        "limit = 500\n",
        "!npx -y tweet-harvest@2.6.1 -o \"{filename}\" -s \"{search_keyword}\" --tab \"LATEST\" -l {limit} --token {twitter_auth_token}\n"
      ],
      "metadata": {
        "id": "lUciYDiaHX5S"
      },
      "execution_count": null,
      "outputs": []
    },
    {
      "cell_type": "code",
      "source": [
        "filename = 'mar_2025_kurangi_plastik.csv'\n",
        "search_keyword = '\"kurangi\" AND \"plastik\" since:2025-03-01 until:2025-03-31 lang:id'\n",
        "limit = 500\n",
        "!npx -y tweet-harvest@2.6.1 -o \"{filename}\" -s \"{search_keyword}\" --tab \"LATEST\" -l {limit} --token {twitter_auth_token}"
      ],
      "metadata": {
        "id": "c4fCrci-LBOY"
      },
      "execution_count": null,
      "outputs": []
    },
    {
      "cell_type": "code",
      "source": [
        "\n",
        "filename = 'mar_2025_polusi_plastik.csv'\n",
        "search_keyword = '\"polusi\" AND \"plastik\" since:2025-03-01 until:2025-03-31 lang:id'\n",
        "limit = 500\n",
        "!npx -y tweet-harvest@2.6.1 -o \"{filename}\" -s \"{search_keyword}\" --tab \"LATEST\" -l {limit} --token {twitter_auth_token}"
      ],
      "metadata": {
        "id": "ikHHLAWGK2Um"
      },
      "execution_count": null,
      "outputs": []
    },
    {
      "cell_type": "markdown",
      "source": [
        "April 2025"
      ],
      "metadata": {
        "id": "72hRBQpu7YTJ"
      }
    },
    {
      "cell_type": "code",
      "source": [
        "\n",
        "filename = 'Apr_2025_sampah_plastik.csv'\n",
        "search_keyword = '\"sampah\" AND \"plastik\" since:2025-04-01 until:2025-03-30 lang:id'\n",
        "limit = 500\n",
        "!npx -y tweet-harvest@2.6.1 -o \"{filename}\" -s \"{search_keyword}\" --tab \"LATEST\" -l {limit} --token {twitter_auth_token}"
      ],
      "metadata": {
        "id": "NVFBn1YC7rOs"
      },
      "execution_count": null,
      "outputs": []
    },
    {
      "cell_type": "code",
      "source": [
        "\n",
        "filename = 'Apr_2025_kurang_plastik.csv'\n",
        "search_keyword = '\"kurangi\" AND \"plastik\" since:2025-04-01 until:2025-03-30 lang:id'\n",
        "limit = 500\n",
        "!npx -y tweet-harvest@2.6.1 -o \"{filename}\" -s \"{search_keyword}\" --tab \"LATEST\" -l {limit} --token {twitter_auth_token}"
      ],
      "metadata": {
        "id": "XxzDJn0_7nEl"
      },
      "execution_count": null,
      "outputs": []
    },
    {
      "cell_type": "code",
      "source": [
        "\n",
        "filename = 'Apr_2025_polusi_plastik.csv'\n",
        "search_keyword = '\"polusi\" AND \"plastik\" since:2025-04-01 until:2025-03-30 lang:id'\n",
        "limit = 500\n",
        "!npx -y tweet-harvest@2.6.1 -o \"{filename}\" -s \"{search_keyword}\" --tab \"LATEST\" -l {limit} --token {twitter_auth_token}"
      ],
      "metadata": {
        "id": "zIf2yIIr7bqf"
      },
      "execution_count": null,
      "outputs": []
    },
    {
      "cell_type": "markdown",
      "source": [
        "Gabung data"
      ],
      "metadata": {
        "id": "E38yDjic79W2"
      }
    },
    {
      "cell_type": "code",
      "source": [
        "import pandas as pd\n",
        "import os # Library untuk berinteraksi dengan sistem operasi\n",
        "\n",
        "# Tentukan path folder tempat file CSV Anda berada\n",
        "# Ganti ini dengan path yang sesuai\n",
        "# Contoh jika di root /content/ setelah upload manual:\n",
        "folder_path = '/content/'\n",
        "\n",
        "# Contoh jika di Google Drive:\n",
        "# folder_path = '/content/drive/My Drive/NamaFolderCSVAnda/'\n",
        "\n",
        "# Periksa apakah folder_path ada\n",
        "if not os.path.exists(folder_path):\n",
        "    print(f\"Error: Folder '{folder_path}' tidak ditemukan. Pastikan path sudah benar.\")\n",
        "else:\n",
        "    # Buat list kosong untuk menyimpan setiap DataFrame\n",
        "    df_list = []\n",
        "\n",
        "    # Dapatkan daftar semua file di folder tersebut\n",
        "    for filename in os.listdir(folder_path):\n",
        "        if filename.endswith('.csv'): # Pastikan hanya memproses file CSV\n",
        "            file_path = os.path.join(folder_path, filename)\n",
        "            try:\n",
        "                df = pd.read_csv(file_path)\n",
        "                df_list.append(df)\n",
        "                print(f\"Berhasil membaca {filename}\")\n",
        "            except Exception as e:\n",
        "                print(f\"Error saat membaca '{filename}': {e}\")\n",
        "\n",
        "    # Gabungkan semua DataFrame dalam list menjadi satu DataFrame besar\n",
        "    if df_list:\n",
        "        combined_df = pd.concat(df_list, ignore_index=True)\n",
        "        print(\"\\nGabungan DataFrame berhasil dibuat!\")\n",
        "        print(f\"Total baris di DataFrame gabungan: {len(combined_df)}\")\n",
        "        print(\"5 baris pertama dari DataFrame gabungan:\")\n",
        "        print(combined_df.head())\n",
        "\n",
        "        # Opsional: Simpan DataFrame gabungan ke CSV baru\n",
        "        combined_df.to_csv('dataset-gabungSemua.csv', index=False)\n",
        "        print(\"\\nDataFrame gabungan disimpan sebagai 'combined_data-now.csv'\")\n",
        "    else:\n",
        "        print(\"Tidak ada file CSV yang ditemukan di folder yang ditentukan atau tidak ada yang berhasil dibaca.\")"
      ],
      "metadata": {
        "id": "6cS0elYc7_qU"
      },
      "execution_count": null,
      "outputs": []
    },
    {
      "cell_type": "markdown",
      "source": [
        "cek duplicate"
      ],
      "metadata": {
        "id": "MJZDO6-U8DDQ"
      }
    },
    {
      "cell_type": "code",
      "source": [
        "import pandas as pd\n",
        "data = pd.read_csv('/content/dataset-gabungSemua.csv')\n",
        "data.info() #untuk menampilkan data"
      ],
      "metadata": {
        "id": "hVGoGiBL9VPP"
      },
      "execution_count": null,
      "outputs": []
    },
    {
      "cell_type": "code",
      "source": [
        "import pandas as pd # Import pandas lagi jika Anda ingin menjalankannya secara independen,\n",
        "                    # tapi jika dijalankan setelah sel 1, sudah tidak perlu\n",
        "\n",
        "# Pastikan 'combined_df' sudah ada dari sel sebelumnya.\n",
        "# Jika Anda menjalankan sel ini tanpa menjalankan sel sebelumnya, ini akan error.\n",
        "\n",
        "if 'combined_df' in locals(): # Memastikan combined_df sudah terdefinisi\n",
        "    print(\"Memulai proses penghapusan duplikat...\")\n",
        "\n",
        "    # !!! PENTING: GANTI 'full_text' dengan nama kolom teks tweet Anda yang benar !!!\n",
        "    # Berdasarkan kolom mentah Anda, ini adalah 'full_text'.\n",
        "    initial_rows = len(combined_df)\n",
        "\n",
        "    # Hapus duplikat berdasarkan kolom 'full_text'\n",
        "    df_no_duplicates = combined_df.drop_duplicates(subset=['full_text'], ignore_index=True)\n",
        "\n",
        "    rows_after_duplicates = len(df_no_duplicates)\n",
        "\n",
        "    print(f\"Total baris sebelum penghapusan duplikat: {initial_rows}\")\n",
        "    print(f\"Jumlah duplikat yang dihapus (berdasarkan 'full_text'): {initial_rows - rows_after_duplicates}\")\n",
        "    print(f\"Total baris setelah penghapusan duplikat: {rows_after_duplicates}\")\n",
        "\n",
        "    print(\"\\n5 baris pertama dari DataFrame setelah penghapusan duplikat:\")\n",
        "    print(df_no_duplicates.head())\n",
        "\n",
        "    # --- Menyimpan DataFrame yang sudah bersih ke CSV baru ---\n",
        "    output_filename = 'data_tweet_kampanyeSampah_bersih_tanpa_duplikat.csv' # Nama file output Anda\n",
        "    df_no_duplicates.to_csv(output_filename, index=False)\n",
        "    print(f\"\\nDataFrame tanpa duplikat disimpan sebagai '{output_filename}'\")\n",
        "\n",
        "    # Opsional: Untuk verifikasi, Anda bisa memeriksa kembali jumlah barisnya\n",
        "    # loaded_df_check = pd.read_csv(output_filename)\n",
        "    # print(f\"\\nVerifikasi: Jumlah baris di file CSV yang disimpan: {len(loaded_df_check)}\")\n",
        "\n",
        "else:\n",
        "    print(\"Error: DataFrame 'combined_df' tidak ditemukan. Pastikan Anda telah menjalankan sel penggabungan CSV terlebih dahulu.\")"
      ],
      "metadata": {
        "id": "jlet6R1l9PDT"
      },
      "execution_count": null,
      "outputs": []
    },
    {
      "cell_type": "code",
      "source": [
        "df_no_duplicates.info()"
      ],
      "metadata": {
        "id": "H0UfBe6d8FL9"
      },
      "execution_count": null,
      "outputs": []
    },
    {
      "cell_type": "markdown",
      "source": [
        "cek distribusi panjang tweet"
      ],
      "metadata": {
        "id": "TMc9ea4J9jz6"
      }
    },
    {
      "cell_type": "code",
      "source": [
        "import matplotlib.pyplot as plt\n",
        "import seaborn as sns\n",
        "\n",
        "# Diasumsikan 'combined_df' adalah DataFrame Anda dari sub-bab sebelumnya\n",
        "# (data sebelum penghapusan duplikat, karena ini masih tahap 'understanding')\n",
        "\n",
        "# Menghitung panjang teks setiap tweet\n",
        "# Buat salinan agar tidak memodifikasi DataFrame asli sebelum preprocessing\n",
        "temp_df_for_viz = combined_df.copy()\n",
        "temp_df_for_viz['text_length'] = temp_df_for_viz['full_text'].apply(len)\n",
        "\n",
        "plt.figure(figsize=(10, 6))\n",
        "sns.histplot(temp_df_for_viz['text_length'], bins=50, kde=True, color='skyblue')\n",
        "plt.title('Distribusi Panjang Teks Tweet')\n",
        "plt.xlabel('Panjang Teks Tweet (Jumlah Karakter)')\n",
        "plt.ylabel('Frekuensi')\n",
        "plt.grid(axis='y', alpha=0.75)\n",
        "plt.show()\n",
        "\n",
        "# Opsional: Tampilkan beberapa statistik dasar panjang teks\n",
        "print(\"\\nStatistik Dasar Panjang Teks Tweet:\")\n",
        "print(temp_df_for_viz['text_length'].describe())\n",
        "\n",
        "# Hapus temporary DataFrame jika tidak dibutuhkan lagi\n",
        "del temp_df_for_viz"
      ],
      "metadata": {
        "id": "bbPjC30C9jSg"
      },
      "execution_count": null,
      "outputs": []
    }
  ]
}