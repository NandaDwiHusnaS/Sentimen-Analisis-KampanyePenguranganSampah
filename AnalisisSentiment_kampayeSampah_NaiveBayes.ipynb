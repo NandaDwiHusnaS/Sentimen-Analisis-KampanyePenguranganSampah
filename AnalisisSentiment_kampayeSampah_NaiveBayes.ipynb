{
  "nbformat": 4,
  "nbformat_minor": 0,
  "metadata": {
    "colab": {
      "provenance": [],
      "authorship_tag": "ABX9TyPc2QMqr11Vfk1BebCuuDpt",
      "include_colab_link": true
    },
    "kernelspec": {
      "name": "python3",
      "display_name": "Python 3"
    },
    "language_info": {
      "name": "python"
    }
  },
  "cells": [
    {
      "cell_type": "markdown",
      "metadata": {
        "id": "view-in-github",
        "colab_type": "text"
      },
      "source": [
        "<a href=\"https://colab.research.google.com/github/NandaDwiHusnaS/Sentimen-Analisis-KampanyePenguranganSampah/blob/main/AnalisisSentiment_kampayeSampah_NaiveBayes.ipynb\" target=\"_parent\"><img src=\"https://colab.research.google.com/assets/colab-badge.svg\" alt=\"Open In Colab\"/></a>"
      ]
    },
    {
      "cell_type": "code",
      "execution_count": null,
      "metadata": {
        "colab": {
          "base_uri": "https://localhost:8080/"
        },
        "id": "LXrWZzat0yLX",
        "outputId": "5a6284b7-f3fc-479b-c683-0a7d4609e054"
      },
      "outputs": [
        {
          "output_type": "stream",
          "name": "stdout",
          "text": [
            "Drive already mounted at /content/drive; to attempt to forcibly remount, call drive.mount(\"/content/drive\", force_remount=True).\n"
          ]
        }
      ],
      "source": [
        "#@title Mount Google Drive\n",
        "from google.colab import drive\n",
        "drive.mount('/content/drive')"
      ]
    },
    {
      "cell_type": "code",
      "source": [
        "import pandas as pd  # Mengimpor library Pandas untuk pemrosesan data, termasuk membaca dan menulis file CSV\n",
        "import re\n",
        "import numpy as np\n",
        "import matplotlib.pyplot as plt"
      ],
      "metadata": {
        "id": "KasY4n_-3QE3"
      },
      "execution_count": null,
      "outputs": []
    },
    {
      "cell_type": "code",
      "source": [],
      "metadata": {
        "id": "kFhAjPau5ZAS"
      },
      "execution_count": null,
      "outputs": []
    },
    {
      "cell_type": "code",
      "source": [
        "df = pd.read_csv('/content/drive/MyDrive/Skripsi/data_tweet_kampanyeSampah_bersih_tanpa_duplikat.csv')\n",
        "\n",
        "df.head(5),df.shape  #first five rows and count of rows and columns"
      ],
      "metadata": {
        "colab": {
          "base_uri": "https://localhost:8080/"
        },
        "id": "auBig8Ub1Cx0",
        "outputId": "a8078483-f550-4ce6-f24b-e5805ce5ec01"
      },
      "execution_count": null,
      "outputs": [
        {
          "output_type": "execute_result",
          "data": {
            "text/plain": [
              "(   conversation_id_str                      created_at  favorite_count  \\\n",
              " 0         1.874726e+18  Thu Jan 02 07:55:00 +0000 2025               0   \n",
              " 1         1.874622e+18  Thu Jan 02 01:02:03 +0000 2025               0   \n",
              " 2         1.874526e+18  Wed Jan 01 20:47:31 +0000 2025               1   \n",
              " 3         1.874526e+18  Wed Jan 01 20:45:06 +0000 2025               1   \n",
              " 4         1.874447e+18  Wed Jan 01 13:24:55 +0000 2025               1   \n",
              " \n",
              "                                                                                                                                                                                                                                                                                                                                             full_text  \\\n",
              " 0                                                                                                  Polusi Plastik: Ancaman Nyata untuk Masa Depan Polusi plastik di Indonesia diperkirakan melonjak hingga 27 juta ton pada tahun 2040. #SelamatkanBumi #KurangiPlastik #GoGreen #PolusiPlastik #IndonesiaBersih #Ayobacanews https://t.co/hfpA9ZKgEG   \n",
              " 1                                                                                                                                                                                                                                        Negosiasi Bersejarah untuk Akhiri Polusi Plastik dan Peran Indonesia #PJMI #PJMINews https://t.co/AZGg17Ht22   \n",
              " 2                                 @infoBMKG @dinaslhdki @DKIJakarta Stop bakar sampah makanan kayu apalagi plastik. Stop pembakaran kabel- karet- aki beks yg sdh tdk terpakai- sterofoam- springbed- palet biru di pelabuhan yg sdh pecah atau rusak dll. Benda2 ini di bakar akan mendatangkan bencana salah 1 nya covid 19 https://t.co/1PL5CJ1YJa   \n",
              " 3  @infoBMKG @dinaslhdki @DKIJakarta Bau / aroma wangi parfum aja bs berdampak negatif terhadap tubuh manusia. Apalagi jika bau dr asap hasil pembakaran plastik karet sterofoam kasur springbed dan plastik aki bekas. Yg ini malah sangat2 berbahaya. Makanya kita warga Jakarta wajib mencegah pembakaran benda2 padat ini https://t.co/qizVH5XyIh   \n",
              " 4                                      Menteri Lingkungan Hidup Hanif menyebut polusi plastik pada 2040 diperkirakan akan mencapai 23 hingga 27 juta ton. Hal itu disampaikan dia setelah pelaksanaan The Intergovernmental Negotiating Committee on Plastic Pollution (INC-5) di Busan Korea Selatan. . Menurut Hanif jumlah https://t.co/RNREmE7VYx   \n",
              " \n",
              "          id_str                                        image_url  \\\n",
              " 0  1.874726e+18                                              NaN   \n",
              " 1  1.874622e+18                                              NaN   \n",
              " 2  1.874558e+18  https://pbs.twimg.com/media/GgPEpFCaYAAZ5dY.jpg   \n",
              " 3  1.874557e+18  https://pbs.twimg.com/media/GgPEFQwaYAArW2_.jpg   \n",
              " 4  1.874447e+18  https://pbs.twimg.com/media/GgNfQ8qaEAArD2S.jpg   \n",
              " \n",
              "   in_reply_to_screen_name lang  location  quote_count  reply_count  \\\n",
              " 0                     NaN   in       NaN            0            0   \n",
              " 1                     NaN   in       NaN            0            0   \n",
              " 2          Polusi_udara78   in       NaN            0            1   \n",
              " 3          Polusi_udara78   in       NaN            0            1   \n",
              " 4                     NaN   in       NaN            0            1   \n",
              " \n",
              "    retweet_count                                           tweet_url  \\\n",
              " 0              0  https://x.com/undefined/status/1874726070953631941   \n",
              " 1              1  https://x.com/undefined/status/1874622148960203124   \n",
              " 2              0  https://x.com/undefined/status/1874558093046190162   \n",
              " 3              0  https://x.com/undefined/status/1874557485065126194   \n",
              " 4              1  https://x.com/undefined/status/1874446709222461788   \n",
              " \n",
              "     user_id_str  username  \n",
              " 0  1.645767e+18       NaN  \n",
              " 1  2.428783e+09       NaN  \n",
              " 2  1.859525e+18       NaN  \n",
              " 3  1.859525e+18       NaN  \n",
              " 4  5.888069e+07       NaN  ,\n",
              " (4351, 15))"
            ]
          },
          "metadata": {},
          "execution_count": 26
        }
      ]
    },
    {
      "cell_type": "code",
      "source": [
        "df.info()"
      ],
      "metadata": {
        "colab": {
          "base_uri": "https://localhost:8080/"
        },
        "id": "aCwjRpQw5suj",
        "outputId": "5efb6412-75a2-4b20-d168-754767054bf3"
      },
      "execution_count": null,
      "outputs": [
        {
          "output_type": "stream",
          "name": "stdout",
          "text": [
            "<class 'pandas.core.frame.DataFrame'>\n",
            "RangeIndex: 4351 entries, 0 to 4350\n",
            "Data columns (total 15 columns):\n",
            " #   Column                   Non-Null Count  Dtype  \n",
            "---  ------                   --------------  -----  \n",
            " 0   conversation_id_str      4351 non-null   float64\n",
            " 1   created_at               4351 non-null   object \n",
            " 2   favorite_count           4351 non-null   int64  \n",
            " 3   full_text                4351 non-null   object \n",
            " 4   id_str                   4351 non-null   float64\n",
            " 5   image_url                983 non-null    object \n",
            " 6   in_reply_to_screen_name  2537 non-null   object \n",
            " 7   lang                     4351 non-null   object \n",
            " 8   location                 0 non-null      float64\n",
            " 9   quote_count              4351 non-null   int64  \n",
            " 10  reply_count              4351 non-null   int64  \n",
            " 11  retweet_count            4351 non-null   int64  \n",
            " 12  tweet_url                4351 non-null   object \n",
            " 13  user_id_str              4351 non-null   float64\n",
            " 14  username                 0 non-null      float64\n",
            "dtypes: float64(5), int64(4), object(6)\n",
            "memory usage: 510.0+ KB\n"
          ]
        }
      ]
    },
    {
      "cell_type": "markdown",
      "source": [
        "Mengambil data tweet nya saja"
      ],
      "metadata": {
        "id": "1QHTgLAoHkHA"
      }
    },
    {
      "cell_type": "code",
      "source": [
        "# Asumsikan df_no_duplicates adalah DataFrame Anda setelah penggabungan dan penghapusan duplikat.\n",
        "# df_no_duplicates memiliki kolom-kolom seperti yang Anda sebutkan:\n",
        "# conversation_id_str, created_at, favorite_count, full_text, id_str, ...\n",
        "\n",
        "# Langkah 1: Pilih kolom yang Anda butuhkan\n",
        "# Anda sudah punya df_no_duplicates, sekarang kita ambil kolom 'full_text' saja.\n",
        "# Namun, akan lebih baik jika Anda tetap menyertakan 'id_str' untuk referensi unik\n",
        "# dan mungkin 'created_at' jika nanti Anda butuh menelusuri atau menganalisis tren waktu.\n",
        "# Untuk tujuan analisis sentimen murni, 'full_text' adalah yang utama.\n",
        "\n",
        "# Pilihan 1: Hanya menyimpan kolom 'full_text'\n",
        "df_final = df[['full_text']].copy()\n",
        "\n",
        "# Pilihan 2 (Direkomendasikan): Menyimpan 'id_str' dan 'full_text' untuk referensi\n",
        "# df_final = df_no_duplicates[['id_str', 'full_text']].copy()\n",
        "\n",
        "# Pilihan 3 (Lebih Lengkap): Menyimpan id, timestamp, dan full_text\n",
        "# df_final = df_no_duplicates[['id_str', 'created_at', 'full_text']].copy()\n",
        "\n",
        "\n",
        "# Langkah 2: Ganti nama kolom 'full_text' menjadi 'tweet' atau 'text' (Opsional tapi disarankan)\n",
        "df_final.rename(columns={'full_text': 'tweet'}, inplace=True)\n",
        "\n",
        "print(\"DataFrame setelah pemilihan dan rename kolom:\")\n",
        "print(df_final.head())\n",
        "print(f\"\\nJumlah kolom akhir: {df_final.shape[1]}\")\n",
        "print(f\"Nama kolom akhir: {df_final.columns.tolist()}\")\n",
        "\n",
        "# Sekarang df_final hanya berisi kolom 'tweet' (atau 'id_str', 'created_at', 'tweet'\n",
        "# tergantung pilihan Anda). DataFrame ini yang akan Anda gunakan untuk:\n",
        "# 1. Cleaning teks lebih lanjut\n",
        "# 2. Pelabelan sentimen (dengan menambahkan kolom 'sentimen' baru)\n",
        "# 3. Ekstraksi fitur\n",
        "# 4. Pelatihan model Naïve Bayes"
      ],
      "metadata": {
        "colab": {
          "base_uri": "https://localhost:8080/"
        },
        "id": "SZtXhq9M8g-G",
        "outputId": "fb979b57-6628-46af-8840-d3690e183770"
      },
      "execution_count": null,
      "outputs": [
        {
          "output_type": "stream",
          "name": "stdout",
          "text": [
            "DataFrame setelah pemilihan dan rename kolom:\n",
            "                                                                                                                                                                                                                                                                                                                                                tweet\n",
            "0                                                                                                  Polusi Plastik: Ancaman Nyata untuk Masa Depan Polusi plastik di Indonesia diperkirakan melonjak hingga 27 juta ton pada tahun 2040. #SelamatkanBumi #KurangiPlastik #GoGreen #PolusiPlastik #IndonesiaBersih #Ayobacanews https://t.co/hfpA9ZKgEG\n",
            "1                                                                                                                                                                                                                                        Negosiasi Bersejarah untuk Akhiri Polusi Plastik dan Peran Indonesia #PJMI #PJMINews https://t.co/AZGg17Ht22\n",
            "2                                 @infoBMKG @dinaslhdki @DKIJakarta Stop bakar sampah makanan kayu apalagi plastik. Stop pembakaran kabel- karet- aki beks yg sdh tdk terpakai- sterofoam- springbed- palet biru di pelabuhan yg sdh pecah atau rusak dll. Benda2 ini di bakar akan mendatangkan bencana salah 1 nya covid 19 https://t.co/1PL5CJ1YJa\n",
            "3  @infoBMKG @dinaslhdki @DKIJakarta Bau / aroma wangi parfum aja bs berdampak negatif terhadap tubuh manusia. Apalagi jika bau dr asap hasil pembakaran plastik karet sterofoam kasur springbed dan plastik aki bekas. Yg ini malah sangat2 berbahaya. Makanya kita warga Jakarta wajib mencegah pembakaran benda2 padat ini https://t.co/qizVH5XyIh\n",
            "4                                      Menteri Lingkungan Hidup Hanif menyebut polusi plastik pada 2040 diperkirakan akan mencapai 23 hingga 27 juta ton. Hal itu disampaikan dia setelah pelaksanaan The Intergovernmental Negotiating Committee on Plastic Pollution (INC-5) di Busan Korea Selatan. . Menurut Hanif jumlah https://t.co/RNREmE7VYx\n",
            "\n",
            "Jumlah kolom akhir: 1\n",
            "Nama kolom akhir: ['tweet']\n"
          ]
        }
      ]
    },
    {
      "cell_type": "code",
      "source": [
        "df_final.info()"
      ],
      "metadata": {
        "colab": {
          "base_uri": "https://localhost:8080/"
        },
        "id": "laMRmWLd89rB",
        "outputId": "94384229-6da0-4b1e-a172-67774140887d"
      },
      "execution_count": null,
      "outputs": [
        {
          "output_type": "stream",
          "name": "stdout",
          "text": [
            "<class 'pandas.core.frame.DataFrame'>\n",
            "RangeIndex: 4351 entries, 0 to 4350\n",
            "Data columns (total 1 columns):\n",
            " #   Column  Non-Null Count  Dtype \n",
            "---  ------  --------------  ----- \n",
            " 0   tweet   4351 non-null   object\n",
            "dtypes: object(1)\n",
            "memory usage: 34.1+ KB\n"
          ]
        }
      ]
    },
    {
      "cell_type": "code",
      "source": [
        "print(\"\\n5 baris pertama dari DataFrame setelah penghapusan duplikat:\")\n",
        "print(df_final.head())"
      ],
      "metadata": {
        "colab": {
          "base_uri": "https://localhost:8080/"
        },
        "id": "9w4-N_y92WLq",
        "outputId": "b6996994-871e-4f97-e4a6-6cb8ec05a98b"
      },
      "execution_count": null,
      "outputs": [
        {
          "output_type": "stream",
          "name": "stdout",
          "text": [
            "\n",
            "5 baris pertama dari DataFrame setelah penghapusan duplikat:\n",
            "                                                                                                                                                                                                                                                                                                                                                tweet\n",
            "0                                                                                                  Polusi Plastik: Ancaman Nyata untuk Masa Depan Polusi plastik di Indonesia diperkirakan melonjak hingga 27 juta ton pada tahun 2040. #SelamatkanBumi #KurangiPlastik #GoGreen #PolusiPlastik #IndonesiaBersih #Ayobacanews https://t.co/hfpA9ZKgEG\n",
            "1                                                                                                                                                                                                                                        Negosiasi Bersejarah untuk Akhiri Polusi Plastik dan Peran Indonesia #PJMI #PJMINews https://t.co/AZGg17Ht22\n",
            "2                                 @infoBMKG @dinaslhdki @DKIJakarta Stop bakar sampah makanan kayu apalagi plastik. Stop pembakaran kabel- karet- aki beks yg sdh tdk terpakai- sterofoam- springbed- palet biru di pelabuhan yg sdh pecah atau rusak dll. Benda2 ini di bakar akan mendatangkan bencana salah 1 nya covid 19 https://t.co/1PL5CJ1YJa\n",
            "3  @infoBMKG @dinaslhdki @DKIJakarta Bau / aroma wangi parfum aja bs berdampak negatif terhadap tubuh manusia. Apalagi jika bau dr asap hasil pembakaran plastik karet sterofoam kasur springbed dan plastik aki bekas. Yg ini malah sangat2 berbahaya. Makanya kita warga Jakarta wajib mencegah pembakaran benda2 padat ini https://t.co/qizVH5XyIh\n",
            "4                                      Menteri Lingkungan Hidup Hanif menyebut polusi plastik pada 2040 diperkirakan akan mencapai 23 hingga 27 juta ton. Hal itu disampaikan dia setelah pelaksanaan The Intergovernmental Negotiating Committee on Plastic Pollution (INC-5) di Busan Korea Selatan. . Menurut Hanif jumlah https://t.co/RNREmE7VYx\n"
          ]
        }
      ]
    },
    {
      "cell_type": "markdown",
      "source": [
        "Eksplorasi Data Awal"
      ],
      "metadata": {
        "id": "eFs0_XMwHbpp"
      }
    },
    {
      "cell_type": "code",
      "source": [],
      "metadata": {
        "id": "uXf2Qzgr4uBO"
      },
      "execution_count": null,
      "outputs": []
    },
    {
      "cell_type": "markdown",
      "source": [
        "**Data Preparation**"
      ],
      "metadata": {
        "id": "djtOREgG4pGW"
      }
    },
    {
      "cell_type": "code",
      "source": [
        "#data cleaning\n",
        "\n",
        "# Diasumsikan 'df_selected_columns' adalah DataFrame Anda dari sub-bab 4.2.2\n",
        "# dengan kolom 'id_str', 'created_at', dan 'text'.\n",
        "df_cleaned = df_final.copy() # Membuat salinan untuk menyimpan hasil pembersihan\n",
        "\n",
        "def clean_text_data(text):\n",
        "    # Menghilangkan URL\n",
        "    text = re.sub(r'http\\S+|www\\S+|https\\S+', '', text, flags=re.MULTILINE)\n",
        "    # Menghilangkan Username (@mention)\n",
        "    text = re.sub(r'@\\w+', '', text)\n",
        "    # Menghilangkan Angka\n",
        "    text = re.sub(r'\\d+', '', text)\n",
        "    # Menghilangkan Tanda Baca (kecuali yang mungkin relevan, misal !, ? - di sini semua dihapus)\n",
        "    text = re.sub(r'[^\\w\\s]', '', text) # Menghilangkan semua kecuali huruf, angka, dan spasi\n",
        "                                      # Jika Anda ingin mempertahankan !, ?, sesuaikan regex ini\n",
        "    # Menghilangkan Spasi Berlebih\n",
        "    text = re.sub(r'\\s+', ' ', text).strip()\n",
        "    return text\n",
        "\n",
        "# Menerapkan fungsi pembersihan ke kolom 'tweet' dan menyimpan hasilnya di kolom baru 'tweet_clean'\n",
        "df_cleaned['tweet_clean'] = df_cleaned['tweet'].apply(clean_text_data)\n",
        "\n",
        "pd.set_option('display.max_colwidth', None)\n",
        "print(\"Contoh Perbandingan Teks Asli dan Teks Setelah Pembersihan Data:\")\n",
        "print(df_cleaned[['tweet', 'tweet_clean']].head())\n",
        "\n",
        "# Output info dan shape untuk memastikan tidak ada perubahan struktural\n",
        "print(f\"\\nShape DataFrame setelah Pembersihan Data: {df_cleaned.shape}\")\n",
        "\n",
        "# df_cleaned sekarang memiliki kolom 'tweet_clean'"
      ],
      "metadata": {
        "colab": {
          "base_uri": "https://localhost:8080/"
        },
        "id": "7sQsGCLy4v5h",
        "outputId": "5197d6ec-c711-4725-dc31-00ee36aab3c2"
      },
      "execution_count": null,
      "outputs": [
        {
          "output_type": "stream",
          "name": "stdout",
          "text": [
            "Contoh Perbandingan Teks Asli dan Teks Setelah Pembersihan Data:\n",
            "                                                                                                                                                                                                                                                                                                                                                tweet  \\\n",
            "0                                                                                                  Polusi Plastik: Ancaman Nyata untuk Masa Depan Polusi plastik di Indonesia diperkirakan melonjak hingga 27 juta ton pada tahun 2040. #SelamatkanBumi #KurangiPlastik #GoGreen #PolusiPlastik #IndonesiaBersih #Ayobacanews https://t.co/hfpA9ZKgEG   \n",
            "1                                                                                                                                                                                                                                        Negosiasi Bersejarah untuk Akhiri Polusi Plastik dan Peran Indonesia #PJMI #PJMINews https://t.co/AZGg17Ht22   \n",
            "2                                 @infoBMKG @dinaslhdki @DKIJakarta Stop bakar sampah makanan kayu apalagi plastik. Stop pembakaran kabel- karet- aki beks yg sdh tdk terpakai- sterofoam- springbed- palet biru di pelabuhan yg sdh pecah atau rusak dll. Benda2 ini di bakar akan mendatangkan bencana salah 1 nya covid 19 https://t.co/1PL5CJ1YJa   \n",
            "3  @infoBMKG @dinaslhdki @DKIJakarta Bau / aroma wangi parfum aja bs berdampak negatif terhadap tubuh manusia. Apalagi jika bau dr asap hasil pembakaran plastik karet sterofoam kasur springbed dan plastik aki bekas. Yg ini malah sangat2 berbahaya. Makanya kita warga Jakarta wajib mencegah pembakaran benda2 padat ini https://t.co/qizVH5XyIh   \n",
            "4                                      Menteri Lingkungan Hidup Hanif menyebut polusi plastik pada 2040 diperkirakan akan mencapai 23 hingga 27 juta ton. Hal itu disampaikan dia setelah pelaksanaan The Intergovernmental Negotiating Committee on Plastic Pollution (INC-5) di Busan Korea Selatan. . Menurut Hanif jumlah https://t.co/RNREmE7VYx   \n",
            "\n",
            "                                                                                                                                                                                                                                                                         tweet_clean  \n",
            "0                                                                         Polusi Plastik Ancaman Nyata untuk Masa Depan Polusi plastik di Indonesia diperkirakan melonjak hingga juta ton pada tahun SelamatkanBumi KurangiPlastik GoGreen PolusiPlastik IndonesiaBersih Ayobacanews  \n",
            "1                                                                                                                                                                                                 Negosiasi Bersejarah untuk Akhiri Polusi Plastik dan Peran Indonesia PJMI PJMINews  \n",
            "2                                       Stop bakar sampah makanan kayu apalagi plastik Stop pembakaran kabel karet aki beks yg sdh tdk terpakai sterofoam springbed palet biru di pelabuhan yg sdh pecah atau rusak dll Benda ini di bakar akan mendatangkan bencana salah nya covid  \n",
            "3  Bau aroma wangi parfum aja bs berdampak negatif terhadap tubuh manusia Apalagi jika bau dr asap hasil pembakaran plastik karet sterofoam kasur springbed dan plastik aki bekas Yg ini malah sangat berbahaya Makanya kita warga Jakarta wajib mencegah pembakaran benda padat ini  \n",
            "4                Menteri Lingkungan Hidup Hanif menyebut polusi plastik pada diperkirakan akan mencapai hingga juta ton Hal itu disampaikan dia setelah pelaksanaan The Intergovernmental Negotiating Committee on Plastic Pollution INC di Busan Korea Selatan Menurut Hanif jumlah  \n",
            "\n",
            "Shape DataFrame setelah Pembersihan Data: (4351, 2)\n"
          ]
        }
      ]
    },
    {
      "cell_type": "markdown",
      "source": [
        "case folding"
      ],
      "metadata": {
        "id": "SJ0GxX6XxYOO"
      }
    },
    {
      "cell_type": "code",
      "source": [
        "# Diasumsikan 'df_cleaned' adalah DataFrame Anda dari sub-bab 4.2.4\n",
        "# dengan kolom 'text_clean'.\n",
        "\n",
        "# Membuat salinan untuk menyimpan hasil case folding\n",
        "df_case_folded = df_cleaned.copy()\n",
        "\n",
        "# Menerapkan case folding ke kolom 'text_clean'\n",
        "df_case_folded['tweet_clean'] = df_case_folded['tweet_clean'].str.lower()\n",
        "\n",
        "print(\"Contoh Teks Setelah Case Folding:\")\n",
        "print(df_case_folded[['tweet', 'tweet_clean']].head())\n",
        "\n",
        "print(f\"\\nShape DataFrame setelah Case Folding: {df_case_folded.shape}\")\n",
        "\n",
        "# df_case_folded sekarang memiliki kolom 'text_clean' yang sudah di-case folded"
      ],
      "metadata": {
        "colab": {
          "base_uri": "https://localhost:8080/"
        },
        "id": "I7YiwGcJxXmy",
        "outputId": "36a817d2-1e58-4bca-c696-c44388172e60"
      },
      "execution_count": null,
      "outputs": [
        {
          "output_type": "stream",
          "name": "stdout",
          "text": [
            "Contoh Teks Setelah Case Folding:\n",
            "                                                                                                                                                                                                                                                                                                                                                tweet  \\\n",
            "0                                                                                                  Polusi Plastik: Ancaman Nyata untuk Masa Depan Polusi plastik di Indonesia diperkirakan melonjak hingga 27 juta ton pada tahun 2040. #SelamatkanBumi #KurangiPlastik #GoGreen #PolusiPlastik #IndonesiaBersih #Ayobacanews https://t.co/hfpA9ZKgEG   \n",
            "1                                                                                                                                                                                                                                        Negosiasi Bersejarah untuk Akhiri Polusi Plastik dan Peran Indonesia #PJMI #PJMINews https://t.co/AZGg17Ht22   \n",
            "2                                 @infoBMKG @dinaslhdki @DKIJakarta Stop bakar sampah makanan kayu apalagi plastik. Stop pembakaran kabel- karet- aki beks yg sdh tdk terpakai- sterofoam- springbed- palet biru di pelabuhan yg sdh pecah atau rusak dll. Benda2 ini di bakar akan mendatangkan bencana salah 1 nya covid 19 https://t.co/1PL5CJ1YJa   \n",
            "3  @infoBMKG @dinaslhdki @DKIJakarta Bau / aroma wangi parfum aja bs berdampak negatif terhadap tubuh manusia. Apalagi jika bau dr asap hasil pembakaran plastik karet sterofoam kasur springbed dan plastik aki bekas. Yg ini malah sangat2 berbahaya. Makanya kita warga Jakarta wajib mencegah pembakaran benda2 padat ini https://t.co/qizVH5XyIh   \n",
            "4                                      Menteri Lingkungan Hidup Hanif menyebut polusi plastik pada 2040 diperkirakan akan mencapai 23 hingga 27 juta ton. Hal itu disampaikan dia setelah pelaksanaan The Intergovernmental Negotiating Committee on Plastic Pollution (INC-5) di Busan Korea Selatan. . Menurut Hanif jumlah https://t.co/RNREmE7VYx   \n",
            "\n",
            "                                                                                                                                                                                                                                                                         tweet_clean  \n",
            "0                                                                         polusi plastik ancaman nyata untuk masa depan polusi plastik di indonesia diperkirakan melonjak hingga juta ton pada tahun selamatkanbumi kurangiplastik gogreen polusiplastik indonesiabersih ayobacanews  \n",
            "1                                                                                                                                                                                                 negosiasi bersejarah untuk akhiri polusi plastik dan peran indonesia pjmi pjminews  \n",
            "2                                       stop bakar sampah makanan kayu apalagi plastik stop pembakaran kabel karet aki beks yg sdh tdk terpakai sterofoam springbed palet biru di pelabuhan yg sdh pecah atau rusak dll benda ini di bakar akan mendatangkan bencana salah nya covid  \n",
            "3  bau aroma wangi parfum aja bs berdampak negatif terhadap tubuh manusia apalagi jika bau dr asap hasil pembakaran plastik karet sterofoam kasur springbed dan plastik aki bekas yg ini malah sangat berbahaya makanya kita warga jakarta wajib mencegah pembakaran benda padat ini  \n",
            "4                menteri lingkungan hidup hanif menyebut polusi plastik pada diperkirakan akan mencapai hingga juta ton hal itu disampaikan dia setelah pelaksanaan the intergovernmental negotiating committee on plastic pollution inc di busan korea selatan menurut hanif jumlah  \n",
            "\n",
            "Shape DataFrame setelah Case Folding: (4351, 2)\n"
          ]
        }
      ]
    },
    {
      "cell_type": "markdown",
      "source": [
        "tokenisasi"
      ],
      "metadata": {
        "id": "aRpFesOpxboz"
      }
    },
    {
      "cell_type": "code",
      "source": [
        "import nltk\n",
        "nltk.download('punkt_tab') # Ini sudah Anda punya, tapi biarkan saja\n",
        "nltk.download('stopwords') # Ini juga\n",
        "from nltk.tokenize import word_tokenize\n",
        "\n",
        "# Diasumsikan 'df_case_folded' adalah DataFrame Anda dari sub-bab 4.2.5\n",
        "# dengan kolom 'text_clean'.\n",
        "\n",
        "# Membuat salinan untuk menyimpan hasil tokenisasi\n",
        "df_tokenized = df_case_folded.copy()\n",
        "\n",
        "# Menerapkan tokenisasi ke kolom 'text_clean'\n",
        "# Hasilnya akan menjadi list kata-kata untuk setiap tweet\n",
        "df_tokenized['tokens'] = df_tokenized['tweet_clean'].apply(word_tokenize)\n",
        "\n",
        "print(\"Contoh Teks Setelah Tokenisasi:\")\n",
        "print(df_tokenized[['tweet_clean', 'tokens']].head())\n",
        "\n",
        "print(f\"\\nShape DataFrame setelah Tokenisasi: {df_tokenized.shape}\")\n",
        "\n",
        "# df_tokenized sekarang memiliki kolom 'tokens' yang berisi list kata-kata"
      ],
      "metadata": {
        "colab": {
          "base_uri": "https://localhost:8080/"
        },
        "id": "9MWPNEKPxcgl",
        "outputId": "6635f1ce-0853-454f-f82a-91a86a2b2151"
      },
      "execution_count": null,
      "outputs": [
        {
          "output_type": "stream",
          "name": "stderr",
          "text": [
            "[nltk_data] Downloading package punkt_tab to /root/nltk_data...\n",
            "[nltk_data]   Package punkt_tab is already up-to-date!\n",
            "[nltk_data] Downloading package stopwords to /root/nltk_data...\n",
            "[nltk_data]   Package stopwords is already up-to-date!\n"
          ]
        },
        {
          "output_type": "stream",
          "name": "stdout",
          "text": [
            "Contoh Teks Setelah Tokenisasi:\n",
            "                                                                                                                                                                                                                                                                         tweet_clean  \\\n",
            "0                                                                         polusi plastik ancaman nyata untuk masa depan polusi plastik di indonesia diperkirakan melonjak hingga juta ton pada tahun selamatkanbumi kurangiplastik gogreen polusiplastik indonesiabersih ayobacanews   \n",
            "1                                                                                                                                                                                                 negosiasi bersejarah untuk akhiri polusi plastik dan peran indonesia pjmi pjminews   \n",
            "2                                       stop bakar sampah makanan kayu apalagi plastik stop pembakaran kabel karet aki beks yg sdh tdk terpakai sterofoam springbed palet biru di pelabuhan yg sdh pecah atau rusak dll benda ini di bakar akan mendatangkan bencana salah nya covid   \n",
            "3  bau aroma wangi parfum aja bs berdampak negatif terhadap tubuh manusia apalagi jika bau dr asap hasil pembakaran plastik karet sterofoam kasur springbed dan plastik aki bekas yg ini malah sangat berbahaya makanya kita warga jakarta wajib mencegah pembakaran benda padat ini   \n",
            "4                menteri lingkungan hidup hanif menyebut polusi plastik pada diperkirakan akan mencapai hingga juta ton hal itu disampaikan dia setelah pelaksanaan the intergovernmental negotiating committee on plastic pollution inc di busan korea selatan menurut hanif jumlah   \n",
            "\n",
            "                                                                                                                                                                                                                                                                                                                         tokens  \n",
            "0                                                                                           [polusi, plastik, ancaman, nyata, untuk, masa, depan, polusi, plastik, di, indonesia, diperkirakan, melonjak, hingga, juta, ton, pada, tahun, selamatkanbumi, kurangiplastik, gogreen, polusiplastik, indonesiabersih, ayobacanews]  \n",
            "1                                                                                                                                                                                                                                [negosiasi, bersejarah, untuk, akhiri, polusi, plastik, dan, peran, indonesia, pjmi, pjminews]  \n",
            "2                                          [stop, bakar, sampah, makanan, kayu, apalagi, plastik, stop, pembakaran, kabel, karet, aki, beks, yg, sdh, tdk, terpakai, sterofoam, springbed, palet, biru, di, pelabuhan, yg, sdh, pecah, atau, rusak, dll, benda, ini, di, bakar, akan, mendatangkan, bencana, salah, nya, covid]  \n",
            "3  [bau, aroma, wangi, parfum, aja, bs, berdampak, negatif, terhadap, tubuh, manusia, apalagi, jika, bau, dr, asap, hasil, pembakaran, plastik, karet, sterofoam, kasur, springbed, dan, plastik, aki, bekas, yg, ini, malah, sangat, berbahaya, makanya, kita, warga, jakarta, wajib, mencegah, pembakaran, benda, padat, ini]  \n",
            "4                       [menteri, lingkungan, hidup, hanif, menyebut, polusi, plastik, pada, diperkirakan, akan, mencapai, hingga, juta, ton, hal, itu, disampaikan, dia, setelah, pelaksanaan, the, intergovernmental, negotiating, committee, on, plastic, pollution, inc, di, busan, korea, selatan, menurut, hanif, jumlah]  \n",
            "\n",
            "Shape DataFrame setelah Tokenisasi: (4351, 3)\n"
          ]
        }
      ]
    },
    {
      "cell_type": "markdown",
      "source": [
        "normalisasi"
      ],
      "metadata": {
        "id": "VJtmutf9VchS"
      }
    },
    {
      "cell_type": "code",
      "source": [
        "import pandas as pd\n",
        "# Pastikan file 'kamus perbaikan kata.csv' sudah diunggah atau terhubung di Google Drive\n",
        "# Contoh jika di root /content/ setelah upload manual:\n",
        "# normalized_word_path = '/content/kamus perbaikan kata.csv'\n",
        "# Contoh jika di Google Drive:\n",
        "normalized_word_path = '/content/drive/MyDrive/Skripsi/normalisasi.csv' # SESUAIKAN PATH INI\n",
        "\n",
        "# Diasumsikan 'df_tokenized' adalah DataFrame Anda dari sub-bab 4.2.6\n",
        "# dengan kolom 'tokens' (list of words).\n",
        "\n",
        "# Membuat salinan untuk menyimpan hasil normalisasi\n",
        "df_normalized = df_tokenized.copy()\n",
        "\n",
        "# Membaca kamus perbaikan kata\n",
        "try:\n",
        "    normalized_word = pd.read_csv(normalized_word_path)\n",
        "    # Membuat dictionary dari DataFrame kamus perbaikan\n",
        "    # Asumsi kolom pertama adalah kata lama, kolom kedua adalah kata baru\n",
        "    normalized_word_dict = dict(zip(normalized_word.iloc[:, 0], normalized_word.iloc[:, 1]))\n",
        "    print(\"Kamus perbaikan kata berhasil dimuat.\")\n",
        "    # Menampilkan beberapa entri dari kamus perbaikan\n",
        "    # print(\"Contoh entri kamus perbaikan:\", list(normalized_word_dict.items())[:5])\n",
        "\n",
        "except FileNotFoundError:\n",
        "    print(f\"Error: File kamus perbaikan kata tidak ditemukan di '{normalized_word_path}'. Pastikan path sudah benar.\")\n",
        "    print(\"Normalisasi kata akan dilewati.\")\n",
        "    df_normalized['tokens_normalized'] = df_normalized['tokens'] # Lanjut tanpa normalisasi jika file tidak ditemukan\n",
        "except Exception as e:\n",
        "    print(f\"Error saat memuat kamus perbaikan kata: {e}\")\n",
        "    print(\"Normalisasi kata akan dilewati.\")\n",
        "    df_normalized['tokens_normalized'] = df_normalized['tokens'] # Lanjut tanpa normalisasi jika ada error lain\n",
        "\n",
        "\n",
        "# Fungsi untuk melakukan normalisasi pada list of tokens\n",
        "def normalized_term(document_tokens):\n",
        "    return [normalized_word_dict.get(term, term) for term in document_tokens]\n",
        "\n",
        "# Menerapkan fungsi normalisasi ke kolom 'tokens'\n",
        "if 'normalized_word_dict' in locals(): # Pastikan kamus berhasil dimuat\n",
        "    df_normalized['tokens_normalized'] = df_normalized['tokens'].apply(normalized_term)\n",
        "else:\n",
        "    # Jika kamus tidak dimuat karena error, kolom ini sudah diisi di blok try-except\n",
        "    pass\n",
        "\n",
        "\n",
        "print(\"\\nContoh Teks Setelah Normalisasi Kata:\")\n",
        "# Menampilkan perbandingan kolom 'tokens' asli dengan 'tokens_normalized'\n",
        "print(df_normalized[['tokens', 'tokens_normalized']].head())\n",
        "\n",
        "print(f\"\\nShape DataFrame setelah Normalisasi Kata: {df_normalized.shape}\")\n",
        "\n",
        "# df_normalized sekarang memiliki kolom 'tokens_normalized'"
      ],
      "metadata": {
        "colab": {
          "base_uri": "https://localhost:8080/"
        },
        "id": "q8stIkzpVfdg",
        "outputId": "4d7a209b-2998-44f6-ea59-6ff675ad7c8d"
      },
      "execution_count": null,
      "outputs": [
        {
          "output_type": "stream",
          "name": "stdout",
          "text": [
            "Error saat memuat kamus perbaikan kata: single positional indexer is out-of-bounds\n",
            "Normalisasi kata akan dilewati.\n",
            "\n",
            "Contoh Teks Setelah Normalisasi Kata:\n",
            "                                                                                                                                                                                                                                                                                                                         tokens  \\\n",
            "0                                                                                           [polusi, plastik, ancaman, nyata, untuk, masa, depan, polusi, plastik, di, indonesia, diperkirakan, melonjak, hingga, juta, ton, pada, tahun, selamatkanbumi, kurangiplastik, gogreen, polusiplastik, indonesiabersih, ayobacanews]   \n",
            "1                                                                                                                                                                                                                                [negosiasi, bersejarah, untuk, akhiri, polusi, plastik, dan, peran, indonesia, pjmi, pjminews]   \n",
            "2                                          [stop, bakar, sampah, makanan, kayu, apalagi, plastik, stop, pembakaran, kabel, karet, aki, beks, yg, sdh, tdk, terpakai, sterofoam, springbed, palet, biru, di, pelabuhan, yg, sdh, pecah, atau, rusak, dll, benda, ini, di, bakar, akan, mendatangkan, bencana, salah, nya, covid]   \n",
            "3  [bau, aroma, wangi, parfum, aja, bs, berdampak, negatif, terhadap, tubuh, manusia, apalagi, jika, bau, dr, asap, hasil, pembakaran, plastik, karet, sterofoam, kasur, springbed, dan, plastik, aki, bekas, yg, ini, malah, sangat, berbahaya, makanya, kita, warga, jakarta, wajib, mencegah, pembakaran, benda, padat, ini]   \n",
            "4                       [menteri, lingkungan, hidup, hanif, menyebut, polusi, plastik, pada, diperkirakan, akan, mencapai, hingga, juta, ton, hal, itu, disampaikan, dia, setelah, pelaksanaan, the, intergovernmental, negotiating, committee, on, plastic, pollution, inc, di, busan, korea, selatan, menurut, hanif, jumlah]   \n",
            "\n",
            "                                                                                                                                                                                                                                                                                                                        tokens_normalized  \n",
            "0                                                                                                     [polusi, plastik, ancaman, nyata, untuk, masa, depan, polusi, plastik, di, indonesia, diperkirakan, melonjak, hingga, juta, ton, pada, tahun, selamatkanbumi, kurangiplastik, gogreen, polusiplastik, indonesiabersih, ayobacanews]  \n",
            "1                                                                                                                                                                                                                                          [negosiasi, bersejarah, untuk, akhiri, polusi, plastik, dan, peran, indonesia, pjmi, pjminews]  \n",
            "2                                          [stop, bakar, sampah, makanan, kayu, apalagi, plastik, stop, pembakaran, kabel, karet, aki, beks, yang, sudah, tidak, terpakai, sterofoam, springbed, palet, biru, di, pelabuhan, yang, sudah, pecah, atau, rusak, dll, benda, ini, di, bakar, akan, mendatangkan, bencana, salah, nya, covid]  \n",
            "3  [bau, aroma, wangi, parfum, saja, bisa, berdampak, negatif, terhadap, tubuh, manusia, apalagi, jika, bau, dari   , asap, hasil, pembakaran, plastik, karet, sterofoam, kasur, springbed, dan, plastik, aki, bekas, yang, ini, malah, sangat, berbahaya, makanya, kita, warga, jakarta, wajib, mencegah, pembakaran, benda, padat, ini]  \n",
            "4                                 [menteri, lingkungan, hidup, hanif, menyebut, polusi, plastik, pada, diperkirakan, akan, mencapai, hingga, juta, ton, hal, itu, disampaikan, dia, setelah, pelaksanaan, the, intergovernmental, negotiating, committee, on, plastic, pollution, inc, di, busan, korea, selatan, menurut, hanif, jumlah]  \n",
            "\n",
            "Shape DataFrame setelah Normalisasi Kata: (4351, 4)\n"
          ]
        }
      ]
    },
    {
      "cell_type": "markdown",
      "source": [
        "Stopword Removal"
      ],
      "metadata": {
        "id": "QjkfVoZExl3y"
      }
    },
    {
      "cell_type": "code",
      "source": [
        "#"
      ],
      "metadata": {
        "id": "c4ckOuj7xnpi"
      },
      "execution_count": null,
      "outputs": []
    },
    {
      "cell_type": "code",
      "source": [
        "!pip install Sastrawi\n",
        "nltk.download('punkt_tab')\n",
        "from Sastrawi.StopWordRemover.StopWordRemoverFactory import StopWordRemoverFactory\n",
        "\n",
        "# Salin DataFrame hasil tokenisasi\n",
        "df_stopwords_removed = df_normalized.copy()\n",
        "\n",
        "# Inisialisasi factory dan stopword remover\n",
        "factory = StopWordRemoverFactory()\n",
        "\n",
        "# Jika kamu ingin menambahkan stopword khusus:\n",
        "more_stop_words = [\"wkwk\"]\n",
        "stopwords_default = factory.get_stop_words()\n",
        "stopwords_final = set(stopwords_default + more_stop_words)\n",
        "\n",
        "# Fungsi untuk menghapus stopword dari teks (dalam bentuk string)\n",
        "def remove_stopwords(text):\n",
        "    tokens = text.split()\n",
        "    filtered = [word for word in tokens if word not in stopwords_final]\n",
        "    return ' '.join(filtered)\n",
        "\n",
        "# Gabungkan list token menjadi string agar bisa difilter\n",
        "df_stopwords_removed['text_joined'] = df_stopwords_removed['tokens_normalized'].apply(lambda tokens: ' '.join(tokens))\n",
        "\n",
        "# Terapkan stopword removal\n",
        "df_stopwords_removed['text_cleaned'] = df_stopwords_removed['text_joined'].apply(remove_stopwords)\n",
        "\n",
        "# Jika mau dikembalikan ke bentuk token lagi:\n",
        "df_stopwords_removed['tokens_filtered'] = df_stopwords_removed['text_cleaned'].apply(lambda text: text.split())\n",
        "\n",
        "# Tampilkan contoh hasilnya\n",
        "print(\"Contoh Teks Setelah Stopword Removal (menggunakan daftar kustom):\")\n",
        "print(df_stopwords_removed[['tokens_normalized', 'tokens_filtered']].head(15))\n",
        "\n",
        "print(f\"\\nShape DataFrame setelah Stopword Removal: {df_stopwords_removed.shape}\")\n"
      ],
      "metadata": {
        "colab": {
          "base_uri": "https://localhost:8080/"
        },
        "id": "rJfQhMOXNH-h",
        "outputId": "d7caae1e-d222-4911-f86d-af4023933d4a"
      },
      "execution_count": null,
      "outputs": [
        {
          "output_type": "stream",
          "name": "stdout",
          "text": [
            "Requirement already satisfied: Sastrawi in /usr/local/lib/python3.11/dist-packages (1.0.1)\n",
            "Contoh Teks Setelah Stopword Removal (menggunakan daftar kustom):\n",
            "                                                                                                                                                                                                                                                                                                                         tokens_normalized  \\\n",
            "0                                                                                                      [polusi, plastik, ancaman, nyata, untuk, masa, depan, polusi, plastik, di, indonesia, diperkirakan, melonjak, hingga, juta, ton, pada, tahun, selamatkanbumi, kurangiplastik, gogreen, polusiplastik, indonesiabersih, ayobacanews]   \n",
            "1                                                                                                                                                                                                                                           [negosiasi, bersejarah, untuk, akhiri, polusi, plastik, dan, peran, indonesia, pjmi, pjminews]   \n",
            "2                                           [stop, bakar, sampah, makanan, kayu, apalagi, plastik, stop, pembakaran, kabel, karet, aki, beks, yang, sudah, tidak, terpakai, sterofoam, springbed, palet, biru, di, pelabuhan, yang, sudah, pecah, atau, rusak, dll, benda, ini, di, bakar, akan, mendatangkan, bencana, salah, nya, covid]   \n",
            "3   [bau, aroma, wangi, parfum, saja, bisa, berdampak, negatif, terhadap, tubuh, manusia, apalagi, jika, bau, dari   , asap, hasil, pembakaran, plastik, karet, sterofoam, kasur, springbed, dan, plastik, aki, bekas, yang, ini, malah, sangat, berbahaya, makanya, kita, warga, jakarta, wajib, mencegah, pembakaran, benda, padat, ini]   \n",
            "4                                  [menteri, lingkungan, hidup, hanif, menyebut, polusi, plastik, pada, diperkirakan, akan, mencapai, hingga, juta, ton, hal, itu, disampaikan, dia, setelah, pelaksanaan, the, intergovernmental, negotiating, committee, on, plastic, pollution, inc, di, busan, korea, selatan, menurut, hanif, jumlah]   \n",
            "5                                                                                                                                                                                                                                                                   [klh, bahaya, polusi, plastik, jadi, sorotan, di, inc, korea, selatan]   \n",
            "6                                                                                                                                                                                                                                                            [bahaya, polusi, sampah, plastik, jadi, sorotan, di, inc, di, korea, selatan]   \n",
            "7                                             [kenapa, ini, jadi, masalah, besar, polusi, lingkungan, plastik, amp, sisa, kembang, api, mencemari, tanah, dan, air, berbahaya, untuk, hewan, sampah, plastik, sering, dikira, makanan, oleh, hewan, merosotnya, keindahan, tempat, taman, indah, kemarin, jadi, tempat, sampah, hari, ini]   \n",
            "8                                                                                                                                                                                                                       [semua, pihak, harus, sadar, sampah, plastik, bukan, hanya, polusi, tetapi, juga, penyebab, sampahaquabikinbanjir]   \n",
            "9                                                                                                                                                                                                                            [tambah, polusi, dan, limbah, saja, ni, botol, plastik, pdhl, tidak, bisa, diurai, lo, sampahaquabikinbanjir]   \n",
            "10                                 [ancaman, dari, aktivitas, manusia, sayangnya, mereka, menghadapi, ancaman, serius, polusi, laut, seperti, minyak, dan, plastik, pemanasan, global, yang, mengubah, suhu, habitat, mereka, overfishing, yang, mengganggu, rantai, makanan, mereka, jika, ekosistem, mereka, terganggu, dampaknya, bisa]   \n",
            "11                     [perbandingan, tanggal, dan, asap, bakaran, sampah, mau, disebut, dgn, asap, dari   , kembang, api, ya, bedalah, kembang, api, itu, aoi, kecil, bakar, sampah, plastik, karet, aki, bekas, itu, api, besar, lu, doang, yang, tolol, jika, berpikir, hal, ini, tidak, bisa, di, bedakan, kembang, api, lebih, heboh]   \n",
            "12                                                                                                                                                                                                            [setelah, kejadian, ini, sampah, plastik, terus, semakin, meningkat, dan, sekarang, menjadi, polusi, sampah, dilautan, kita]   \n",
            "13                                [referensi, wawancara, dengan, deniz, sygdych, di, art, and, environment, journal, laporan, the, art, of, recycling, data, dari, unep, tentang, polusi, plastik, global, apa, pendapatmu, tentang, seni, dari, limbah, ini, apakah, kita, bisa, lebih, peduli, terhadap, lingkungan, melalui, seni, yuk]   \n",
            "14                [dampak, buruk, dari   , gas, atau, asap, yang, di, hasilkan, dari   , kabel, sterofoam, plastik, busa, springbed, yang, terbakar, menghasilkan, banyak, penyakit, berbahaya, dan, mematikan, jika, di, tahun, hal, buruk, ini, disebutnya, covid, pemerintah, ri, benar, sudah, abai, menjamin, keselamatan, rakyatnya]   \n",
            "\n",
            "                                                                                                                                                                                                                                                  tokens_filtered  \n",
            "0                                              [polusi, plastik, ancaman, nyata, masa, depan, polusi, plastik, indonesia, diperkirakan, melonjak, hingga, juta, ton, tahun, selamatkanbumi, kurangiplastik, gogreen, polusiplastik, indonesiabersih, ayobacanews]  \n",
            "1                                                                                                                                                                              [negosiasi, bersejarah, akhiri, polusi, plastik, peran, indonesia, pjmi, pjminews]  \n",
            "2                                          [stop, bakar, sampah, makanan, kayu, plastik, stop, pembakaran, kabel, karet, aki, beks, terpakai, sterofoam, springbed, palet, biru, pelabuhan, pecah, rusak, benda, bakar, mendatangkan, bencana, salah, nya, covid]  \n",
            "3   [bau, aroma, wangi, parfum, berdampak, negatif, tubuh, manusia, bau, asap, hasil, pembakaran, plastik, karet, sterofoam, kasur, springbed, plastik, aki, bekas, malah, sangat, berbahaya, makanya, warga, jakarta, wajib, mencegah, pembakaran, benda, padat]  \n",
            "4          [menteri, lingkungan, hidup, hanif, menyebut, polusi, plastik, diperkirakan, mencapai, hingga, juta, ton, disampaikan, pelaksanaan, the, intergovernmental, negotiating, committee, on, plastic, pollution, inc, busan, korea, selatan, hanif, jumlah]  \n",
            "5                                                                                                                                                                                              [klh, bahaya, polusi, plastik, jadi, sorotan, inc, korea, selatan]  \n",
            "6                                                                                                                                                                                           [bahaya, polusi, sampah, plastik, jadi, sorotan, inc, korea, selatan]  \n",
            "7        [jadi, masalah, besar, polusi, lingkungan, plastik, amp, sisa, kembang, api, mencemari, tanah, air, berbahaya, hewan, sampah, plastik, sering, dikira, makanan, hewan, merosotnya, keindahan, tempat, taman, indah, kemarin, jadi, tempat, sampah, hari]  \n",
            "8                                                                                                                                                                          [semua, pihak, sadar, sampah, plastik, bukan, polusi, penyebab, sampahaquabikinbanjir]  \n",
            "9                                                                                                                                                                           [tambah, polusi, limbah, ni, botol, plastik, pdhl, diurai, lo, sampahaquabikinbanjir]  \n",
            "10                                    [ancaman, aktivitas, manusia, sayangnya, menghadapi, ancaman, serius, polusi, laut, minyak, plastik, pemanasan, global, mengubah, suhu, habitat, overfishing, mengganggu, rantai, makanan, ekosistem, terganggu, dampaknya]  \n",
            "11               [perbandingan, tanggal, asap, bakaran, sampah, mau, disebut, dgn, asap, kembang, api, bedalah, kembang, api, aoi, kecil, bakar, sampah, plastik, karet, aki, bekas, api, besar, lu, doang, tolol, berpikir, bedakan, kembang, api, lebih, heboh]  \n",
            "12                                                                                                                                                            [kejadian, sampah, plastik, terus, semakin, meningkat, sekarang, menjadi, polusi, sampah, dilautan]  \n",
            "13                                    [referensi, wawancara, deniz, sygdych, art, and, environment, journal, laporan, the, art, of, recycling, data, unep, polusi, plastik, global, apa, pendapatmu, seni, limbah, lebih, peduli, lingkungan, melalui, seni, yuk]  \n",
            "14               [dampak, buruk, gas, asap, hasilkan, kabel, sterofoam, plastik, busa, springbed, terbakar, menghasilkan, banyak, penyakit, berbahaya, mematikan, tahun, buruk, disebutnya, covid, pemerintah, ri, benar, abai, menjamin, keselamatan, rakyatnya]  \n",
            "\n",
            "Shape DataFrame setelah Stopword Removal: (4351, 7)\n"
          ]
        },
        {
          "output_type": "stream",
          "name": "stderr",
          "text": [
            "[nltk_data] Downloading package punkt_tab to /root/nltk_data...\n",
            "[nltk_data]   Package punkt_tab is already up-to-date!\n"
          ]
        }
      ]
    },
    {
      "cell_type": "markdown",
      "source": [
        "Stemming"
      ],
      "metadata": {
        "id": "LWYsx0L_xotC"
      }
    },
    {
      "cell_type": "code",
      "source": [
        "import pandas as pd\n",
        "from Sastrawi.Stemmer.StemmerFactory import StemmerFactory\n",
        "\n",
        "# Diasumsikan 'df_stopwords_removed' adalah DataFrame Anda dengan kolom 'tokens_filtered'\n",
        "\n",
        "# Membuat salinan DataFrame\n",
        "df_stemmed = df_stopwords_removed.copy()\n",
        "\n",
        "# Inisialisasi stemmer Sastrawi (Nazief & Adriani)\n",
        "factory = StemmerFactory()\n",
        "stemmer = factory.create_stemmer()\n",
        "\n",
        "# Daftar kata kunci topik lingkungan (penyesuaian stemming manual)\n",
        "custom_root_words = {\n",
        "    'pengurangan': 'kurang',\n",
        "    'mengurangi': 'kurang',\n",
        "    'berkurang': 'kurang',\n",
        "    'penggunaan': 'pakai',\n",
        "    'memakai': 'pakai',\n",
        "    'pemakaian': 'pakai',\n",
        "    'dipakai': 'pakai',\n",
        "    'pelestarian': 'lestar',\n",
        "    'melestarikan': 'lestar',\n",
        "    'pencemaran': 'cemar',\n",
        "    'mencemari': 'cemar',\n",
        "    'pengelolaan': 'kelola',\n",
        "    'dikelola': 'kelola',\n",
        "    'sampahnya': 'sampah',\n",
        "    'memplastiki': 'plastik',\n",
        "    'pengumpulan': 'kumpul',\n",
        "\n",
        "}\n",
        "\n",
        "def custom_stem(word):\n",
        "    word_lower = word.lower()\n",
        "    if word_lower in custom_root_words:\n",
        "        return custom_root_words[word_lower]\n",
        "    return stemmer.stem(word_lower)\n",
        "\n",
        "def stem_tokens(tokens):\n",
        "    return [custom_stem(word) for word in tokens]\n",
        "\n",
        "# Terapkan stemming yang disesuaikan\n",
        "df_stemmed['tokens_stemmed'] = df_stemmed['tokens_filtered'].apply(stem_tokens)\n",
        "\n",
        "# Ubah hasil token kembali ke teks utuh\n",
        "df_stemmed['text_final'] = df_stemmed['tokens_stemmed'].apply(lambda x: ' '.join(x))\n",
        "\n",
        "# Tampilkan contoh hasil\n",
        "print(\"Contoh Teks Setelah Stemming:\")\n",
        "print(df_stemmed[['tokens_filtered', 'tokens_stemmed', 'text_final']].head())\n",
        "\n",
        "print(f\"\\nShape DataFrame setelah Stemming: {df_stemmed.shape}\")\n"
      ],
      "metadata": {
        "colab": {
          "base_uri": "https://localhost:8080/"
        },
        "id": "Tn4PxY9OxtPy",
        "outputId": "34ff517a-c47a-4edd-834d-f299add88932"
      },
      "execution_count": null,
      "outputs": [
        {
          "output_type": "stream",
          "name": "stdout",
          "text": [
            "Contoh Teks Setelah Stemming:\n",
            "                                                                                                                                                                                                                                                 tokens_filtered  \\\n",
            "0                                             [polusi, plastik, ancaman, nyata, masa, depan, polusi, plastik, indonesia, diperkirakan, melonjak, hingga, juta, ton, tahun, selamatkanbumi, kurangiplastik, gogreen, polusiplastik, indonesiabersih, ayobacanews]   \n",
            "1                                                                                                                                                                             [negosiasi, bersejarah, akhiri, polusi, plastik, peran, indonesia, pjmi, pjminews]   \n",
            "2                                         [stop, bakar, sampah, makanan, kayu, plastik, stop, pembakaran, kabel, karet, aki, beks, terpakai, sterofoam, springbed, palet, biru, pelabuhan, pecah, rusak, benda, bakar, mendatangkan, bencana, salah, nya, covid]   \n",
            "3  [bau, aroma, wangi, parfum, berdampak, negatif, tubuh, manusia, bau, asap, hasil, pembakaran, plastik, karet, sterofoam, kasur, springbed, plastik, aki, bekas, malah, sangat, berbahaya, makanya, warga, jakarta, wajib, mencegah, pembakaran, benda, padat]   \n",
            "4         [menteri, lingkungan, hidup, hanif, menyebut, polusi, plastik, diperkirakan, mencapai, hingga, juta, ton, disampaikan, pelaksanaan, the, intergovernmental, negotiating, committee, on, plastic, pollution, inc, busan, korea, selatan, hanif, jumlah]   \n",
            "\n",
            "                                                                                                                                                                                                                               tokens_stemmed  \\\n",
            "0                                      [polusi, plastik, ancam, nyata, masa, depan, polusi, plastik, indonesia, kira, lonjak, hingga, juta, ton, tahun, selamatkanbumi, kurangiplastik, gogreen, polusiplastik, indonesiabersih, ayobacanews]   \n",
            "1                                                                                                                                                              [negosiasi, sejarah, akhir, polusi, plastik, peran, indonesia, pjmi, pjminews]   \n",
            "2                                          [stop, bakar, sampah, makan, kayu, plastik, stop, bakar, kabel, karet, aki, beks, pakai, sterofoam, springbed, palet, biru, labuh, pecah, rusak, benda, bakar, datang, bencana, salah, nya, covid]   \n",
            "3  [bau, aroma, wangi, parfum, dampak, negatif, tubuh, manusia, bau, asap, hasil, bakar, plastik, karet, sterofoam, kasur, springbed, plastik, aki, bekas, malah, sangat, bahaya, makanya, warga, jakarta, wajib, cegah, bakar, benda, padat]   \n",
            "4                 [menteri, lingkung, hidup, hanif, sebut, polusi, plastik, kira, capai, hingga, juta, ton, sampai, laksana, the, intergovernmental, negotiating, committee, on, plastic, pollution, inc, bus, korea, selatan, hanif, jumlah]   \n",
            "\n",
            "                                                                                                                                                                                                   text_final  \n",
            "0                            polusi plastik ancam nyata masa depan polusi plastik indonesia kira lonjak hingga juta ton tahun selamatkanbumi kurangiplastik gogreen polusiplastik indonesiabersih ayobacanews  \n",
            "1                                                                                                                                        negosiasi sejarah akhir polusi plastik peran indonesia pjmi pjminews  \n",
            "2                                      stop bakar sampah makan kayu plastik stop bakar kabel karet aki beks pakai sterofoam springbed palet biru labuh pecah rusak benda bakar datang bencana salah nya covid  \n",
            "3  bau aroma wangi parfum dampak negatif tubuh manusia bau asap hasil bakar plastik karet sterofoam kasur springbed plastik aki bekas malah sangat bahaya makanya warga jakarta wajib cegah bakar benda padat  \n",
            "4             menteri lingkung hidup hanif sebut polusi plastik kira capai hingga juta ton sampai laksana the intergovernmental negotiating committee on plastic pollution inc bus korea selatan hanif jumlah  \n",
            "\n",
            "Shape DataFrame setelah Stemming: (4351, 9)\n"
          ]
        }
      ]
    },
    {
      "cell_type": "markdown",
      "source": [
        "Labeling"
      ],
      "metadata": {
        "id": "HwMX0fBQiXL7"
      }
    },
    {
      "cell_type": "code",
      "source": [
        "import pandas as pd\n",
        "import numpy as np\n",
        "import re\n",
        "import string\n",
        "import matplotlib.pyplot as plt\n",
        "import seaborn as sns\n",
        "# Pastikan Anda sudah menginstal transformers jika belum:\n",
        "!pip install transformers\n",
        "\n",
        "# Import modul yang dibutuhkan dari transformers\n",
        "from transformers import pipeline, AutoTokenizer, AutoModelForSequenceClassification\n",
        "\n",
        "# ==============================================================================\n",
        "# Bagian 1: Inisialisasi Model Hugging Face\n",
        "# Kode ini bisa diletakkan di awal cell ini atau di cell terpisah jika Anda mau\n",
        "# ==============================================================================\n",
        "pretrained_model_name = \"mdhugol/indonesia-bert-sentiment-classification\"\n",
        "\n",
        "# Muat model dan tokenizer\n",
        "# Catatan: Ini akan mengunduh model dan tokenizer jika belum ada\n",
        "print(f\"Mengunduh dan memuat model: {pretrained_model_name}...\")\n",
        "model = AutoModelForSequenceClassification.from_pretrained(pretrained_model_name)\n",
        "tokenizer = AutoTokenizer.from_pretrained(pretrained_model_name)\n",
        "print(\"Model dan tokenizer berhasil dimuat.\")\n",
        "\n",
        "# Membuat pipeline untuk analisis sentimen\n",
        "sentiment_analysis_pipeline = pipeline(\"sentiment-analysis\", model=model, tokenizer=tokenizer)\n",
        "\n",
        "# Peta indeks label dari model ke label yang lebih mudah dibaca\n",
        "label_index = {'LABEL_0': 'Positif', 'LABEL_1': 'Netral', 'LABEL_2': 'Negatif'}\n",
        "\n",
        "# ==============================================================================\n",
        "# Bagian 2: Menerapkan Pelabelan ke DataFrame\n",
        "# ==============================================================================\n",
        "\n",
        "# Diasumsikan 'df_stemmed' adalah DataFrame Anda dari sub-bab 4.2.9\n",
        "# dengan kolom 'text_final' yang berisi teks bersih dan distem.\n",
        "df_labeled = df_stemmed.copy() # Membuat salinan untuk menyimpan hasil pelabelan\n",
        "\n",
        "# Inisialisasi kolom baru untuk sentimen dan skor\n",
        "df_labeled['sentimen'] = None\n",
        "df_labeled['sentimen_score'] = None\n",
        "\n",
        "print(\"\\nMemulai proses pelabelan sentimen otomatis...\")\n",
        "\n",
        "# Iterasi melalui setiap baris DataFrame untuk klasifikasi sentimen\n",
        "# Gunakan iterrows() untuk efisiensi, tetapi pastikan kolom 'text_final' ada\n",
        "for index, row in df_labeled.iterrows():\n",
        "    try:\n",
        "        # Ambil teks dari kolom 'text_final'\n",
        "        text_to_classify = row[\"text_final\"]\n",
        "\n",
        "        # Pastikan teks tidak kosong atau NaN sebelum diklasifikasi\n",
        "        if pd.isna(text_to_classify) or text_to_classify.strip() == \"\":\n",
        "            df_labeled.at[index, \"sentimen\"] = \"Netral\" # Atau label sebagai 'Tidak_Dapat_Diklasifikasi'\n",
        "            df_labeled.at[index, \"sentimen_score\"] = 0.0\n",
        "            continue\n",
        "\n",
        "        # Klasifikasikan teks dan dapatkan hasilnya\n",
        "        result = sentiment_analysis_pipeline(text_to_classify)\n",
        "\n",
        "        # Ekstrak label dan skor\n",
        "        status = label_index[result[0][\"label\"]]\n",
        "        score = result[0][\"score\"]\n",
        "\n",
        "        # Tambahkan label dan skor ke DataFrame\n",
        "        df_labeled.at[index, \"sentimen\"] = status\n",
        "        df_labeled.at[index, \"sentimen_score\"] = score\n",
        "\n",
        "    except Exception as e:\n",
        "        # Tangani error, misalnya jika ada teks yang terlalu panjang atau masalah lain\n",
        "        print(f\"Error saat mengklasifikasi indeks {index}: {e}\")\n",
        "        df_labeled.at[index, \"sentimen\"] = \"Error\" # Label sebagai error\n",
        "        df_labeled.at[index, \"sentimen_score\"] = 0.0\n",
        "        continue\n",
        "\n",
        "print(\"Pelabelan sentimen selesai.\")\n",
        "\n",
        "# ==============================================================================\n",
        "# Bagian 3: Verifikasi Hasil dan Simpan\n",
        "# ==============================================================================\n",
        "\n",
        "print(\"\\n5 baris pertama DataFrame setelah pelabelan sentimen otomatis:\")\n",
        "print(df_labeled[['text_final', 'sentimen', 'sentimen_score']].head())\n",
        "\n",
        "# Menampilkan distribusi sentimen\n",
        "print(\"\\nDistribusi Sentimen dalam Dataset:\")\n",
        "print(df_labeled['sentimen'].value_counts())\n",
        "\n",
        "plt.figure(figsize=(8, 5))\n",
        "sns.countplot(x='sentimen', data=df_labeled, palette='viridis', order=['Positif', 'Netral', 'Negatif'])\n",
        "plt.title('Distribusi Kategori Sentimen Otomatis')\n",
        "plt.xlabel('Kategori Sentimen')\n",
        "plt.ylabel('Jumlah Tweet')\n",
        "plt.grid(axis='y', alpha=0.75)\n",
        "plt.show()\n",
        "\n",
        "# Menyimpan DataFrame yang telah dilabeli ke CSV baru\n",
        "# Sesuaikan path output sesuai dengan lokasi penyimpanan Anda di Colab/Google Drive\n",
        "output_filename_labeled = '/content/data_tweet_labeled_sentiment.csv'\n",
        "# output_filename_labeled = '/content/drive/My Drive/Skripsi/data_tweet_labeled_sentiment.csv' # Contoh untuk Google Drive\n",
        "\n",
        "df_labeled.to_csv(output_filename_labeled, index=False)\n",
        "print(f\"\\nDataFrame yang telah dilabeli sentimen disimpan sebagai '{output_filename_labeled}'\")\n",
        "\n",
        "# 'df_labeled' adalah DataFrame akhir yang siap untuk Pembagian Data Latih/Uji dan Ekstraksi Fitur"
      ],
      "metadata": {
        "colab": {
          "base_uri": "https://localhost:8080/",
          "height": 1000
        },
        "id": "vYFSzgKBiYx1",
        "outputId": "42f1bead-9ae6-43b4-fe5b-f2210e0b2960"
      },
      "execution_count": null,
      "outputs": [
        {
          "output_type": "stream",
          "name": "stdout",
          "text": [
            "Requirement already satisfied: transformers in /usr/local/lib/python3.11/dist-packages (4.52.4)\n",
            "Requirement already satisfied: filelock in /usr/local/lib/python3.11/dist-packages (from transformers) (3.18.0)\n",
            "Requirement already satisfied: huggingface-hub<1.0,>=0.30.0 in /usr/local/lib/python3.11/dist-packages (from transformers) (0.33.0)\n",
            "Requirement already satisfied: numpy>=1.17 in /usr/local/lib/python3.11/dist-packages (from transformers) (2.0.2)\n",
            "Requirement already satisfied: packaging>=20.0 in /usr/local/lib/python3.11/dist-packages (from transformers) (24.2)\n",
            "Requirement already satisfied: pyyaml>=5.1 in /usr/local/lib/python3.11/dist-packages (from transformers) (6.0.2)\n",
            "Requirement already satisfied: regex!=2019.12.17 in /usr/local/lib/python3.11/dist-packages (from transformers) (2024.11.6)\n",
            "Requirement already satisfied: requests in /usr/local/lib/python3.11/dist-packages (from transformers) (2.32.3)\n",
            "Requirement already satisfied: tokenizers<0.22,>=0.21 in /usr/local/lib/python3.11/dist-packages (from transformers) (0.21.1)\n",
            "Requirement already satisfied: safetensors>=0.4.3 in /usr/local/lib/python3.11/dist-packages (from transformers) (0.5.3)\n",
            "Requirement already satisfied: tqdm>=4.27 in /usr/local/lib/python3.11/dist-packages (from transformers) (4.67.1)\n",
            "Requirement already satisfied: fsspec>=2023.5.0 in /usr/local/lib/python3.11/dist-packages (from huggingface-hub<1.0,>=0.30.0->transformers) (2025.3.2)\n",
            "Requirement already satisfied: typing-extensions>=3.7.4.3 in /usr/local/lib/python3.11/dist-packages (from huggingface-hub<1.0,>=0.30.0->transformers) (4.14.0)\n",
            "Requirement already satisfied: hf-xet<2.0.0,>=1.1.2 in /usr/local/lib/python3.11/dist-packages (from huggingface-hub<1.0,>=0.30.0->transformers) (1.1.3)\n",
            "Requirement already satisfied: charset-normalizer<4,>=2 in /usr/local/lib/python3.11/dist-packages (from requests->transformers) (3.4.2)\n",
            "Requirement already satisfied: idna<4,>=2.5 in /usr/local/lib/python3.11/dist-packages (from requests->transformers) (3.10)\n",
            "Requirement already satisfied: urllib3<3,>=1.21.1 in /usr/local/lib/python3.11/dist-packages (from requests->transformers) (2.4.0)\n",
            "Requirement already satisfied: certifi>=2017.4.17 in /usr/local/lib/python3.11/dist-packages (from requests->transformers) (2025.6.15)\n",
            "Mengunduh dan memuat model: mdhugol/indonesia-bert-sentiment-classification...\n"
          ]
        },
        {
          "output_type": "stream",
          "name": "stderr",
          "text": [
            "Device set to use cpu\n"
          ]
        },
        {
          "output_type": "stream",
          "name": "stdout",
          "text": [
            "Model dan tokenizer berhasil dimuat.\n",
            "\n",
            "Memulai proses pelabelan sentimen otomatis...\n",
            "Pelabelan sentimen selesai.\n",
            "\n",
            "5 baris pertama DataFrame setelah pelabelan sentimen otomatis:\n",
            "                                                                                                                                                                                                   text_final  \\\n",
            "0                            polusi plastik ancam nyata masa depan polusi plastik indonesia kira lonjak hingga juta ton tahun selamatkanbumi kurangiplastik gogreen polusiplastik indonesiabersih ayobacanews   \n",
            "1                                                                                                                                        negosiasi sejarah akhir polusi plastik peran indonesia pjmi pjminews   \n",
            "2                                      stop bakar sampah makan kayu plastik stop bakar kabel karet aki beks pakai sterofoam springbed palet biru labuh pecah rusak benda bakar datang bencana salah nya covid   \n",
            "3  bau aroma wangi parfum dampak negatif tubuh manusia bau asap hasil bakar plastik karet sterofoam kasur springbed plastik aki bekas malah sangat bahaya makanya warga jakarta wajib cegah bakar benda padat   \n",
            "4             menteri lingkung hidup hanif sebut polusi plastik kira capai hingga juta ton sampai laksana the intergovernmental negotiating committee on plastic pollution inc bus korea selatan hanif jumlah   \n",
            "\n",
            "  sentimen sentimen_score  \n",
            "0   Netral       0.819717  \n",
            "1   Netral       0.997134  \n",
            "2  Negatif       0.923832  \n",
            "3  Negatif       0.930111  \n",
            "4   Netral       0.995312  \n",
            "\n",
            "Distribusi Sentimen dalam Dataset:\n",
            "sentimen\n",
            "Negatif    2542\n",
            "Netral     1440\n",
            "Positif     369\n",
            "Name: count, dtype: int64\n"
          ]
        },
        {
          "output_type": "stream",
          "name": "stderr",
          "text": [
            "/tmp/ipython-input-38-3481199841.py:91: FutureWarning: \n",
            "\n",
            "Passing `palette` without assigning `hue` is deprecated and will be removed in v0.14.0. Assign the `x` variable to `hue` and set `legend=False` for the same effect.\n",
            "\n",
            "  sns.countplot(x='sentimen', data=df_labeled, palette='viridis', order=['Positif', 'Netral', 'Negatif'])\n"
          ]
        },
        {
          "output_type": "display_data",
          "data": {
            "text/plain": [
              "<Figure size 800x500 with 1 Axes>"
            ],
            "image/png": "[encoded data removed]"
          },
          "metadata": {}
        },
        {
          "output_type": "stream",
          "name": "stdout",
          "text": [
            "\n",
            "DataFrame yang telah dilabeli sentimen disimpan sebagai '/content/data_tweet_labeled_sentiment.csv'\n"
          ]
        }
      ]
    },
    {
      "cell_type": "markdown",
      "source": [
        "MODELLING\n",
        "\n",
        "\n"
      ],
      "metadata": {
        "id": "JFnwXOXrqAoj"
      }
    },
    {
      "cell_type": "markdown",
      "source": [
        "SPLIT DATA MENJADI DATA TRAIN DAN TEST"
      ],
      "metadata": {
        "id": "ckIteCPGw4zH"
      }
    },
    {
      "cell_type": "code",
      "source": [
        "\n",
        "# Import library yang dibutuhkan\n",
        "import pandas as pd\n",
        "from sklearn.feature_extraction.text import TfidfVectorizer\n",
        "from sklearn.model_selection import train_test_split\n",
        "\n",
        "# 1. Membaca data dari file CSV\n",
        "# Gantilah 'nama_file.csv' dengan nama file CSV yang sesuai\n",
        "df_labeled = pd.read_csv('data_tweet_labeled_sentiment.csv')  # asumsi file sudah memiliki kolom 'text_final' dan 'sentimen'\n",
        "\n",
        "# 2. Pembagian data menjadi fitur (X) dan label (y)\n",
        "X = df_labeled['text_final']\n",
        "y = df_labeled['sentimen']\n",
        "\n",
        "# 3. Vektorisasi teks menggunakan TF-IDF\n",
        "vectorizer = TfidfVectorizer()\n",
        "X_vectorized = vectorizer.fit_transform(X)\n",
        "\n",
        "# 4. Split dataset menjadi training dan testing (70:30)\n",
        "X_train, X_test, y_train, y_test = train_test_split(\n",
        "    X_vectorized,\n",
        "    y,\n",
        "    test_size=0.2, # Ubah sesuai kebutuhan: 0.2 untuk 80:20, 0.3 untuk 70:30, dll.\n",
        "    random_state=42\n",
        ")\n",
        "\n",
        "# 5. Tampilkan informasi hasil split\n",
        "print(\"Jumlah Data Latihan dan Pengujian:\")\n",
        "print(f\"Jumlah data fitur pelatihan (X_train): {X_train.shape[0]}\")\n",
        "print(f\"Jumlah label pelatihan (y_train): {y_train.shape[0]}\")\n",
        "print(f\"Jumlah data fitur pengujian (X_test): {X_test.shape[0]}\")\n",
        "print(f\"Jumlah label pengujian (y_test): {y_test.shape[0]}\")\n",
        "print(f\"Jumlah fitur unik (vocabulary): {X_train.shape[1]}\")\n"
      ],
      "metadata": {
        "colab": {
          "base_uri": "https://localhost:8080/"
        },
        "id": "OhHRaWfPqEi5",
        "outputId": "bfcd6918-feb7-40e4-c068-ca8a7f6f1fec"
      },
      "execution_count": null,
      "outputs": [
        {
          "output_type": "stream",
          "name": "stdout",
          "text": [
            "Jumlah Data Latihan dan Pengujian:\n",
            "Jumlah data fitur pelatihan (X_train): 3480\n",
            "Jumlah label pelatihan (y_train): 3480\n",
            "Jumlah data fitur pengujian (X_test): 871\n",
            "Jumlah label pengujian (y_test): 871\n",
            "Jumlah fitur unik (vocabulary): 9540\n"
          ]
        }
      ]
    },
    {
      "cell_type": "code",
      "source": [
        "# Ambil fitur (kata-kata unik)\n",
        "feature_names = vectorizer.get_feature_names_out()\n",
        "\n",
        "# Konversi hasil TF-IDF ke DataFrame\n",
        "tfidf_df = pd.DataFrame(X_vectorized.toarray(), columns=feature_names)\n",
        "\n",
        "# Ambil contoh 2 dokumen dan 10 kata unik pertama\n",
        "example_df = tfidf_df[feature_names[:10]].head(15)\n",
        "\n",
        "# Tampilkan sebagai tabel\n",
        "print(example_df)"
      ],
      "metadata": {
        "colab": {
          "base_uri": "https://localhost:8080/"
        },
        "id": "NLnUiQzP-8Nu",
        "outputId": "4146951d-781d-4d85-f878-448078b91ba0"
      },
      "execution_count": null,
      "outputs": [
        {
          "output_type": "stream",
          "name": "stdout",
          "text": [
            "     aa  aamiin  aarumrumi  abad  abadi  abah  abahbongkeng      abai  abang  \\\n",
            "0   0.0     0.0        0.0   0.0    0.0   0.0           0.0  0.000000    0.0   \n",
            "1   0.0     0.0        0.0   0.0    0.0   0.0           0.0  0.000000    0.0   \n",
            "2   0.0     0.0        0.0   0.0    0.0   0.0           0.0  0.000000    0.0   \n",
            "3   0.0     0.0        0.0   0.0    0.0   0.0           0.0  0.000000    0.0   \n",
            "4   0.0     0.0        0.0   0.0    0.0   0.0           0.0  0.000000    0.0   \n",
            "5   0.0     0.0        0.0   0.0    0.0   0.0           0.0  0.000000    0.0   \n",
            "6   0.0     0.0        0.0   0.0    0.0   0.0           0.0  0.000000    0.0   \n",
            "7   0.0     0.0        0.0   0.0    0.0   0.0           0.0  0.000000    0.0   \n",
            "8   0.0     0.0        0.0   0.0    0.0   0.0           0.0  0.000000    0.0   \n",
            "9   0.0     0.0        0.0   0.0    0.0   0.0           0.0  0.000000    0.0   \n",
            "10  0.0     0.0        0.0   0.0    0.0   0.0           0.0  0.000000    0.0   \n",
            "11  0.0     0.0        0.0   0.0    0.0   0.0           0.0  0.000000    0.0   \n",
            "12  0.0     0.0        0.0   0.0    0.0   0.0           0.0  0.000000    0.0   \n",
            "13  0.0     0.0        0.0   0.0    0.0   0.0           0.0  0.000000    0.0   \n",
            "14  0.0     0.0        0.0   0.0    0.0   0.0           0.0  0.238013    0.0   \n",
            "\n",
            "    abdi  \n",
            "0    0.0  \n",
            "1    0.0  \n",
            "2    0.0  \n",
            "3    0.0  \n",
            "4    0.0  \n",
            "5    0.0  \n",
            "6    0.0  \n",
            "7    0.0  \n",
            "8    0.0  \n",
            "9    0.0  \n",
            "10   0.0  \n",
            "11   0.0  \n",
            "12   0.0  \n",
            "13   0.0  \n",
            "14   0.0  \n"
          ]
        }
      ]
    },
    {
      "cell_type": "markdown",
      "source": [
        "klasifikasi"
      ],
      "metadata": {
        "id": "83OoYNeVAljp"
      }
    },
    {
      "cell_type": "code",
      "source": [
        "# Import library yang dibutuhkan\n",
        "from sklearn.naive_bayes import MultinomialNB\n",
        "from sklearn.metrics import (\n",
        "    confusion_matrix, accuracy_score,\n",
        "    precision_score, recall_score, f1_score\n",
        ")\n",
        "import matplotlib.pyplot as plt\n",
        "import seaborn as sns\n",
        "\n",
        "# ========================\n",
        "# 1. Training Model Naive Bayes\n",
        "# ========================\n",
        "nb_model = MultinomialNB()\n",
        "nb_model.fit(X_train, y_train)\n",
        "\n",
        "# ========================\n",
        "# 2. Prediksi dengan data uji\n",
        "# ========================\n",
        "y_pred = nb_model.predict(X_test)\n",
        "\n",
        "# ========================\n",
        "# 3. Evaluasi Model\n",
        "# ========================\n",
        "\n",
        "# Confusion Matrix\n",
        "cm = confusion_matrix(y_test, y_pred, labels=[\"Positif\", \"Negatif\", \"Netral\"])\n",
        "\n",
        "# Plot Confusion Matrix\n",
        "plt.figure(figsize=(8, 6))\n",
        "sns.heatmap(cm, annot=True, fmt='d', cmap='Blues',\n",
        "            xticklabels=[\"Positif\", \"Negatif\", \"Netral\"],\n",
        "            yticklabels=[\"Positif\", \"Negatif\", \"Netral\"])\n",
        "plt.title('Confusion Matrix')\n",
        "plt.xlabel('Predicted Labels')\n",
        "plt.ylabel('True Labels')\n",
        "plt.show()\n",
        "\n",
        "# ========================\n",
        "# 4. Skor Evaluasi\n",
        "# ========================\n",
        "print(\"Akurasi :\", accuracy_score(y_test, y_pred))\n",
        "print(\"Presisi :\", precision_score(y_test, y_pred, average='macro', zero_division=0))\n",
        "print(\"Recall   :\", recall_score(y_test, y_pred, average='macro', zero_division=0))\n",
        "print(\"F1-Score :\", f1_score(y_test, y_pred, average='macro', zero_division=0))\n",
        "\n",
        "# ========================\n",
        "# 5. TP, FP, FN, TN untuk Setiap Kelas\n",
        "# ========================\n",
        "conf_matrix = confusion_matrix(y_test, y_pred, labels=[\"Positif\", \"Negatif\", \"Netral\"])\n",
        "class_labels = [\"Positif\", \"Negatif\", \"Netral\"]\n",
        "num_classes = conf_matrix.shape[0]\n",
        "\n",
        "for i in range(num_classes):\n",
        "    TP = conf_matrix[i, i]\n",
        "    FP = conf_matrix[:, i].sum() - TP\n",
        "    FN = conf_matrix[i, :].sum() - TP\n",
        "    TN = conf_matrix.sum() - (TP + FP + FN)\n",
        "    print(f\"\\nKelas {class_labels[i]}:\")\n",
        "    print(f\"TP: {TP}, FP: {FP}, FN: {FN}, TN: {TN}\")\n"
      ],
      "metadata": {
        "colab": {
          "base_uri": "https://localhost:8080/",
          "height": 790
        },
        "id": "6YeTznWjAoOI",
        "outputId": "d071e06e-ae3c-4860-8ba1-bdb752d080e4"
      },
      "execution_count": null,
      "outputs": [
        {
          "output_type": "display_data",
          "data": {
            "text/plain": [
              "<Figure size 800x600 with 2 Axes>"
            ],
            "image/png": "[encoded data removed]"
          },
          "metadata": {}
        },
        {
          "output_type": "stream",
          "name": "stdout",
          "text": [
            "Akurasi : 0.7554535017221584\n",
            "Presisi : 0.5247318007662836\n",
            "Recall   : 0.5007586533902324\n",
            "F1-Score : 0.49365852493851925\n",
            "\n",
            "Kelas Positif:\n",
            "TP: 0, FP: 0, FN: 68, TN: 803\n",
            "\n",
            "Kelas Negatif:\n",
            "TP: 511, FP: 185, FN: 7, TN: 168\n",
            "\n",
            "Kelas Netral:\n",
            "TP: 147, FP: 28, FN: 138, TN: 558\n"
          ]
        }
      ]
    },
    {
      "cell_type": "markdown",
      "source": [
        "ROS Random Oversampling"
      ],
      "metadata": {
        "id": "XhNVAugGyCdp"
      }
    },
    {
      "cell_type": "code",
      "source": [
        "#pip install imbalanced-learn"
      ],
      "metadata": {
        "id": "yo5gpADfBKVc"
      },
      "execution_count": null,
      "outputs": []
    },
    {
      "cell_type": "code",
      "source": [
        "# Import library yang dibutuhkan\n",
        "import pandas as pd\n",
        "from sklearn.feature_extraction.text import TfidfVectorizer\n",
        "from sklearn.model_selection import train_test_split\n",
        "from sklearn.naive_bayes import MultinomialNB\n",
        "from sklearn.metrics import (\n",
        "    confusion_matrix, accuracy_score,\n",
        "    precision_score, recall_score, f1_score\n",
        ")\n",
        "import matplotlib.pyplot as plt\n",
        "import seaborn as sns\n",
        "from collections import Counter\n",
        "from imblearn.over_sampling import RandomOverSampler  # Ganti dari SMOTE ke ROS\n",
        "\n",
        "# 1. Membaca data\n",
        "df_labeled = pd.read_csv('data_tweet_labeled_sentiment.csv')  # Pastikan kolom 'text_final' dan 'sentimen' ada\n",
        "\n",
        "# 2. Pisahkan fitur dan label\n",
        "X = df_labeled['text_final']\n",
        "y = df_labeled['sentimen']\n",
        "\n",
        "# 3. TF-IDF Vectorizer\n",
        "vectorizer = TfidfVectorizer()\n",
        "X_vectorized = vectorizer.fit_transform(X)\n",
        "\n",
        "# 4. Split 60:40 stratified\n",
        "X_train, X_test, y_train, y_test = train_test_split(\n",
        "    X_vectorized,\n",
        "    y,\n",
        "    test_size=0.2,\n",
        "    random_state=42,\n",
        "    stratify=y\n",
        ")\n",
        "\n",
        "# 5. Info sebelum ROS\n",
        "print(\"Jumlah Data Latihan dan Pengujian (Sebelum ROS):\")\n",
        "print(f\"X_train: {X_train.shape[0]}, y_train: {y_train.shape[0]}\")\n",
        "print(f\"X_test: {X_test.shape[0]}, y_test: {y_test.shape[0]}\")\n",
        "print(f\"Jumlah fitur unik: {X_train.shape[1]}\")\n",
        "print(\"\\nDistribusi kelas sebelum ROS:\")\n",
        "print(Counter(y_train))\n",
        "\n",
        "# 6. Oversampling dengan RandomOverSampler\n",
        "print(\"\\nMelakukan oversampling dengan RandomOverSampler...\")\n",
        "ros = RandomOverSampler(random_state=42)\n",
        "X_train_ros, y_train_ros = ros.fit_resample(X_train, y_train)\n",
        "print(\"Oversampling ROS selesai.\")\n",
        "print(\"\\nDistribusi kelas sesudah ROS:\")\n",
        "print(Counter(y_train_ros))\n",
        "\n",
        "# Visualisasi distribusi kelas setelah ROS\n",
        "plt.figure(figsize=(8, 6))\n",
        "sns.countplot(x=y_train_ros, palette='viridis', order=['Positif', 'Netral', 'Negatif'])\n",
        "plt.title('Distribusi Kelas Sentimen Data Latih Setelah ROS')\n",
        "plt.xlabel('Kategori Sentimen')\n",
        "plt.ylabel('Jumlah Sampel')\n",
        "plt.grid(axis='y', alpha=0.75)\n",
        "plt.show()\n",
        "\n",
        "# 7. Latih model Naive Bayes\n",
        "print(\"\\nMelatih model Multinomial Naïve Bayes dengan data ROS...\")\n",
        "nb_model_ros = MultinomialNB()\n",
        "nb_model_ros.fit(X_train_ros, y_train_ros)\n",
        "print(\"Model berhasil dilatih.\")\n",
        "\n",
        "# 8. Prediksi\n",
        "y_pred_ros = nb_model_ros.predict(X_test)\n",
        "\n",
        "# 9. Evaluasi model\n",
        "print(\"\\n--- Hasil Evaluasi Model Naïve Bayes Pasca-ROS ---\")\n",
        "\n",
        "# Confusion Matrix\n",
        "cm_ros = confusion_matrix(y_test, y_pred_ros, labels=[\"Positif\", \"Negatif\", \"Netral\"])\n",
        "\n",
        "# Plot Confusion Matrix\n",
        "plt.figure(figsize=(8, 6))\n",
        "sns.heatmap(cm_ros, annot=True, fmt='d', cmap='Blues',\n",
        "            xticklabels=[\"Positif\", \"Negatif\", \"Netral\"],\n",
        "            yticklabels=[\"Positif\", \"Negatif\", \"Netral\"])\n",
        "plt.title('Confusion Matrix Pasca-ROS')\n",
        "plt.xlabel('Predicted Labels')\n",
        "plt.ylabel('True Labels')\n",
        "plt.show()\n",
        "\n",
        "# Skor evaluasi\n",
        "print(\"Akurasi  :\", accuracy_score(y_test, y_pred_ros))\n",
        "print(\"Presisi  :\", precision_score(y_test, y_pred_ros, average='macro', zero_division=0))\n",
        "print(\"Recall   :\", recall_score(y_test, y_pred_ros, average='macro', zero_division=0))\n",
        "print(\"F1-Score :\", f1_score(y_test, y_pred_ros, average='macro', zero_division=0))\n",
        "\n",
        "# Detail TP, FP, FN, TN per kelas\n",
        "conf_matrix_detail = cm_ros\n",
        "class_labels = [\"Positif\", \"Negatif\", \"Netral\"]\n",
        "\n",
        "for i in range(len(class_labels)):\n",
        "    TP = conf_matrix_detail[i, i]\n",
        "    FP = conf_matrix_detail[:, i].sum() - TP\n",
        "    FN = conf_matrix_detail[i, :].sum() - TP\n",
        "    TN = conf_matrix_detail.sum() - (TP + FP + FN)\n",
        "    print(f\"\\nKelas {class_labels[i]}:\")\n",
        "    print(f\"TP: {TP}, FP: {FP}, FN: {FN}, TN: {TN}\")\n"
      ],
      "metadata": {
        "colab": {
          "base_uri": "https://localhost:8080/",
          "height": 1000
        },
        "id": "zyIH6QxVyBhg",
        "outputId": "af472bbb-198b-45c1-f5e2-cc50a1d0ae78"
      },
      "execution_count": null,
      "outputs": [
        {
          "output_type": "stream",
          "name": "stdout",
          "text": [
            "Jumlah Data Latihan dan Pengujian (Sebelum ROS):\n",
            "X_train: 3480, y_train: 3480\n",
            "X_test: 871, y_test: 871\n",
            "Jumlah fitur unik: 9540\n",
            "\n",
            "Distribusi kelas sebelum ROS:\n",
            "Counter({'Negatif': 2033, 'Netral': 1152, 'Positif': 295})\n",
            "\n",
            "Melakukan oversampling dengan RandomOverSampler...\n",
            "Oversampling ROS selesai.\n",
            "\n",
            "Distribusi kelas sesudah ROS:\n",
            "Counter({'Negatif': 2033, 'Netral': 2033, 'Positif': 2033})\n"
          ]
        },
        {
          "output_type": "stream",
          "name": "stderr",
          "text": [
            "/tmp/ipython-input-5-2650487105.py:53: FutureWarning: \n",
            "\n",
            "Passing `palette` without assigning `hue` is deprecated and will be removed in v0.14.0. Assign the `x` variable to `hue` and set `legend=False` for the same effect.\n",
            "\n",
            "  sns.countplot(x=y_train_ros, palette='viridis', order=['Positif', 'Netral', 'Negatif'])\n"
          ]
        },
        {
          "output_type": "display_data",
          "data": {
            "text/plain": [
              "<Figure size 800x600 with 1 Axes>"
            ],
            "image/png": "[encoded data removed]"
          },
          "metadata": {}
        },
        {
          "output_type": "stream",
          "name": "stdout",
          "text": [
            "\n",
            "Melatih model Multinomial Naïve Bayes dengan data ROS...\n",
            "Model berhasil dilatih.\n",
            "\n",
            "--- Hasil Evaluasi Model Naïve Bayes Pasca-ROS ---\n"
          ]
        },
        {
          "output_type": "display_data",
          "data": {
            "text/plain": [
              "<Figure size 800x600 with 2 Axes>"
            ],
            "image/png": "[encoded data removed]"
          },
          "metadata": {}
        },
        {
          "output_type": "stream",
          "name": "stdout",
          "text": [
            "Akurasi  : 0.7588978185993112\n",
            "Presisi  : 0.6619348457781629\n",
            "Recall   : 0.7057793304109611\n",
            "F1-Score : 0.6672977405735447\n",
            "\n",
            "Kelas Positif:\n",
            "TP: 44, FP: 99, FN: 30, TN: 698\n",
            "\n",
            "Kelas Negatif:\n",
            "TP: 411, FP: 63, FN: 98, TN: 299\n",
            "\n",
            "Kelas Netral:\n",
            "TP: 206, FP: 48, FN: 82, TN: 535\n"
          ]
        }
      ]
    }
  ]
}